{
 "cells": [
  {
   "cell_type": "markdown",
   "id": "bd5bd8e6-ee74-43e6-9d2c-80edb18031fb",
   "metadata": {},
   "source": [
    "# Graz Population"
   ]
  },
  {
   "cell_type": "code",
   "execution_count": 5,
   "id": "72bac79b-4392-45c5-aef1-31de5bd079a9",
   "metadata": {},
   "outputs": [],
   "source": [
    "!pip install rasterio -q"
   ]
  },
  {
   "cell_type": "code",
   "execution_count": 12,
   "id": "a8634048-6bf2-4ee8-9043-7f6383878edb",
   "metadata": {},
   "outputs": [],
   "source": [
    "import geopandas as gpd\n",
    "import rasterio\n",
    "from rasterio.mask import mask\n",
    "import matplotlib.pyplot as plt\n",
    "from shapely.geometry import Point\n",
    "import numpy as np"
   ]
  },
  {
   "cell_type": "markdown",
   "id": "ed947ceb-1118-4a37-a851-ea2ea7f001db",
   "metadata": {},
   "source": [
    "1. Population clip to Graz"
   ]
  },
  {
   "cell_type": "code",
   "execution_count": 10,
   "id": "53c10e41-4c67-4a8a-9f3b-df5e7fd31c34",
   "metadata": {},
   "outputs": [],
   "source": [
    "graz = gpd.read_file(\"graz.shp\")\n",
    "\n",
    "with rasterio.open('aut_ppp_2020.tif') as src:\n",
    "    # Schneiden Sie das Raster auf die Maske zu\n",
    "    out_image, out_transform = mask(src, graz.geometry, crop=True)\n",
    "    out_meta = src.meta.copy()\n",
    "\n",
    "out_meta.update({\n",
    "    \"driver\": \"GTiff\",\n",
    "    \"height\": out_image.shape[1],\n",
    "    \"width\": out_image.shape[2],\n",
    "    \"transform\": out_transform\n",
    "})\n",
    "\n",
    "with rasterio.open('aut_ppp_2020_graz.tif', 'w', **out_meta) as dest:\n",
    "    dest.write(out_image)"
   ]
  },
  {
   "cell_type": "markdown",
   "id": "8d17260e-28be-44d8-8464-7db908c4b9ff",
   "metadata": {},
   "source": [
    "2. Raster to Vector - Point"
   ]
  },
  {
   "cell_type": "code",
   "execution_count": 20,
   "id": "a12f89f5-1bb4-423c-8b23-09b32cec2e7b",
   "metadata": {},
   "outputs": [],
   "source": [
    "with rasterio.open('aut_ppp_2020_graz.tif') as src:\n",
    "    image = src.read(1)\n",
    "    transform = src.transform \n",
    "    \n",
    "    nodata_value = src.nodata\n",
    "\n",
    "    points = []\n",
    "    values = []\n",
    "    \n",
    "    for row in range(image.shape[0]):\n",
    "        for col in range(image.shape[1]):\n",
    "            value = image[row, col]\n",
    "            if value != nodata_value:\n",
    "                x, y = transform * (col, row)\n",
    "                points.append(Point(x, y))\n",
    "                values.append(value)\n",
    "    \n",
    "    graz_pop = gpd.GeoDataFrame({'value': values}, geometry=points, crs=src.crs)\n",
    "\n",
    "graz_pop.to_parquet('graz_pop.parquet')"
   ]
  }
 ],
 "metadata": {
  "kernelspec": {
   "display_name": "Python 3 (ipykernel)",
   "language": "python",
   "name": "python3"
  },
  "language_info": {
   "codemirror_mode": {
    "name": "ipython",
    "version": 3
   },
   "file_extension": ".py",
   "mimetype": "text/x-python",
   "name": "python",
   "nbconvert_exporter": "python",
   "pygments_lexer": "ipython3",
   "version": "3.12.3"
  }
 },
 "nbformat": 4,
 "nbformat_minor": 5
}
