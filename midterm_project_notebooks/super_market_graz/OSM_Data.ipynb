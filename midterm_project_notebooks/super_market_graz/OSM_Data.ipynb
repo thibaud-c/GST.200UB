{
 "cells": [
  {
   "cell_type": "markdown",
   "id": "d39aef08-2373-4830-bfcc-0d03c0d8242d",
   "metadata": {},
   "source": [
    "# Download OSM Data with OSMNX"
   ]
  },
  {
   "cell_type": "code",
   "execution_count": null,
   "id": "df4cd5a3-6011-4a4c-b8f3-0b1ab1664e13",
   "metadata": {},
   "outputs": [],
   "source": [
    "import osmnx as ox\n",
    "import geopandas as gpd\n",
    "from sklearn.neighbors import NearestNeighbors\n",
    "import numpy as np"
   ]
  },
  {
   "cell_type": "markdown",
   "id": "23d38273-1843-479d-a82d-99f6879ff3da",
   "metadata": {},
   "source": [
    "1. Load Data Graz Polygon"
   ]
  },
  {
   "cell_type": "code",
   "execution_count": 2,
   "id": "bb2d717d-5ede-46ac-873c-1dba4880ea0b",
   "metadata": {},
   "outputs": [
    {
     "name": "stderr",
     "output_type": "stream",
     "text": [
      "/tmp/ipykernel_62/4235810593.py:6: UserWarning: Column names longer than 10 characters will be truncated when saved to ESRI Shapefile.\n",
      "  graz.to_file(\"graz.shp\")\n"
     ]
    }
   ],
   "source": [
    "place_name = \"Graz, Austria\"\n",
    "graz = ox.geocode_to_gdf(place_name)\n",
    "\n",
    "graz.to_file(\"graz.shp\")"
   ]
  },
  {
   "cell_type": "markdown",
   "id": "fa3628a0-b91e-43d9-ac37-e62416c57289",
   "metadata": {},
   "source": [
    "2. Load Data Geidorf Polygon"
   ]
  },
  {
   "cell_type": "code",
   "execution_count": null,
   "id": "af85b9ea-efcb-4f80-944b-f4a2abfdb01e",
   "metadata": {},
   "outputs": [],
   "source": [
    "place_name = \"Geidorf, Graz, Austria\"\n",
    "geidorf = ox.geocode_to_gdf(place_name)\n",
    "\n",
    "geidorf.to_file(\"geidorf_bezirk.shp\")"
   ]
  },
  {
   "cell_type": "markdown",
   "id": "7523e085-0457-47d4-be3a-e59fdbc5c016",
   "metadata": {},
   "source": [
    "3. Load Data Buildings Graz"
   ]
  },
  {
   "cell_type": "code",
   "execution_count": null,
   "id": "f6194681-2d7a-44c5-b896-d20510af142f",
   "metadata": {},
   "outputs": [
    {
     "name": "stderr",
     "output_type": "stream",
     "text": [
      "/tmp/ipykernel_469/342192505.py:19: UserWarning: Column names longer than 10 characters will be truncated when saved to ESRI Shapefile.\n",
      "  buildings.to_file(\"buildings.shp\")\n"
     ]
    }
   ],
   "source": [
    "place_name = \"Graz, Austria\"\n",
    "\n",
    "building_tags = {'building': True}\n",
    "buildings = ox.features_from_place(place_name, building_tags)\n",
    "# only polygon data\n",
    "buildings = buildings[buildings.geometry.type == 'Polygon']\n",
    "buildings = buildings[buildings.geometry.apply(lambda geom: geom.is_valid)]\n",
    "\n",
    "buildings = gpd.GeoDataFrame(buildings, crs=\"EPSG:4326\")\n",
    "\n",
    "buildings = buildings[['geometry']]\n",
    "\n",
    "buildings.to_file(\"buildings.shp\")"
   ]
  },
  {
   "cell_type": "markdown",
   "id": "4701d9e2-ae5f-48d5-a540-bc0ab115b424",
   "metadata": {},
   "source": [
    "4. Load Data Supermarkets Graz"
   ]
  },
  {
   "cell_type": "code",
   "execution_count": null,
   "id": "467f9996-21e2-41a6-9d4a-cb594f4f04b1",
   "metadata": {},
   "outputs": [],
   "source": [
    "place_name = \"Graz, Austria\"\n",
    "\n",
    "supermarket_tags = {\n",
    "    'shop': ['supermarket', 'grocery']\n",
    "}\n",
    "\n",
    "supermarkets = ox.features_from_place(place_name, supermarket_tags)\n",
    "# only polygon data\n",
    "supermarkets = supermarkets[supermarkets.geometry.type == \"Polygon\"]\n",
    "supermarkets = supermarkets[supermarkets.geometry.apply(lambda geom: geom.is_valid)]\n",
    "\n",
    "supermarkets = gpd.GeoDataFrame(supermarkets, crs=\"EPSG:4326\")\n",
    "\n",
    "supermarkets = supermarkets[['geometry','brand']]\n",
    "\n",
    "supermarkets.to_file(\"supermarkets.shp\")"
   ]
  },
  {
   "cell_type": "markdown",
   "id": "2b4399a6-f39b-497d-a553-47654fef16c8",
   "metadata": {},
   "source": [
    "# Data processing and nearest neighbor (Buildings and Supermarkets)"
   ]
  },
  {
   "cell_type": "code",
   "execution_count": null,
   "id": "c3f2999e-3b7e-4bda-866c-a331fa6fd9b4",
   "metadata": {},
   "outputs": [],
   "source": [
    "buildings = buildings.to_crs(31256)\n",
    "supermarkets = supermarkets.to_crs(31256)\n",
    "# find centerpoint for each polygon\n",
    "buildings['centroid'] = buildings.geometry.centroid\n",
    "supermarkets['centroid'] = supermarkets.geometry.centroid\n",
    "\n",
    "building_coords = np.array([(geom.x, geom.y) for geom in buildings['centroid']])\n",
    "supermarket_coords = np.array([(geom.x, geom.y) for geom in supermarkets['centroid']])\n",
    "# nearest supermarket for each building\n",
    "nbrs = NearestNeighbors(n_neighbors=1, algorithm='auto').fit(supermarket_coords)\n",
    "distances, indices = nbrs.kneighbors(building_coords)\n",
    "\n",
    "buildings['supermarket_index'] = indices\n",
    "buildings['distance_to_supermarket'] = distances\n",
    "\n",
    "buildings = buildings.to_crs(4326)\n",
    "supermarkets = supermarkets.to_crs(4326)\n",
    "buildings['centroid'] = buildings['centroid'].to_crs(4326)\n",
    "supermarkets['centroid'] = supermarkets['centroid'].to_crs(4326)\n",
    "# join buildings with supermarkets\n",
    "buildings['supermarket_index'] = buildings['supermarket_index'].astype(int)\n",
    "supermarkets = supermarkets.reset_index()\n",
    "buildings = buildings.join(supermarkets, on='supermarket_index', rsuffix='_supermarket')\n",
    "\n",
    "buildings[\"lon_geb\"] = buildings.geometry.apply(lambda geom: geom.x if geom.geom_type == 'Point' else geom.centroid.x)\n",
    "buildings[\"lat_geb\"] = buildings.geometry.apply(lambda geom: geom.y if geom.geom_type == 'Point' else geom.centroid.y)\n",
    "\n",
    "buildings.to_parquet(\"buildings.parquet\")\n",
    "supermarkets.to_parquet(\"supermarkets.parquet\")"
   ]
  }
 ],
 "metadata": {
  "kernelspec": {
   "display_name": "Python 3 (ipykernel)",
   "language": "python",
   "name": "python3"
  },
  "language_info": {
   "codemirror_mode": {
    "name": "ipython",
    "version": 3
   },
   "file_extension": ".py",
   "mimetype": "text/x-python",
   "name": "python",
   "nbconvert_exporter": "python",
   "pygments_lexer": "ipython3",
   "version": "3.12.3"
  }
 },
 "nbformat": 4,
 "nbformat_minor": 5
}
