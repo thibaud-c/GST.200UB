{
 "cells": [
  {
   "cell_type": "markdown",
   "id": "cc4045d3",
   "metadata": {},
   "source": [
    "# 🤖 Sentiment analysis of PPGIS data"
   ]
  },
  {
   "cell_type": "code",
   "execution_count": null,
   "id": "a8a5feae",
   "metadata": {},
   "outputs": [],
   "source": [
    "%pip install torch transformers -q"
   ]
  },
  {
   "cell_type": "code",
   "execution_count": 2,
   "id": "99e9f4e4",
   "metadata": {},
   "outputs": [],
   "source": [
    "import duckdb\n",
    "import pandas as pd\n",
    "import geopandas as gpd\n",
    "import osmnx as ox\n",
    "\n",
    "from transformers import pipeline\n",
    "\n",
    "import plotly.express as px\n",
    "\n",
    "# load duckdb spatial extension\n",
    "duckdb.sql('LOAD spatial')"
   ]
  },
  {
   "cell_type": "code",
   "execution_count": 4,
   "id": "9bb38455",
   "metadata": {},
   "outputs": [
    {
     "data": {
      "text/plain": [
       "┌─────────────┬─────────────┬──────────────────────────────────────────────┬──────────────────────────────────────────────┬───────────────┬─────────┬────────────────────┬─────────┬─────────┬─────────┬───────┬─────────────────┐\n",
       "│ column_name │ column_type │                     min                      │                     max                      │ approx_unique │   avg   │        std         │   q25   │   q50   │   q75   │ count │ null_percentage │\n",
       "│   varchar   │   varchar   │                   varchar                    │                   varchar                    │     int64     │ varchar │      varchar       │ varchar │ varchar │ varchar │ int64 │  decimal(9,2)   │\n",
       "├─────────────┼─────────────┼──────────────────────────────────────────────┼──────────────────────────────────────────────┼───────────────┼─────────┼────────────────────┼─────────┼─────────┼─────────┼───────┼─────────────────┤\n",
       "│ id          │ BIGINT      │ 1                                            │ 1000                                         │          1232 │ 500.5   │ 288.81943609574955 │ 250     │ 501     │ 752     │  1000 │            0.00 │\n",
       "│ centroid    │ GEOMETRY    │ POINT (331810.125 6819552.6477999985)        │ POINT (328333.4929999998 6823337.784499999)  │          1170 │ NULL    │ NULL               │ NULL    │ NULL    │ NULL    │  1000 │            0.00 │\n",
       "│ comment     │ VARCHAR     │ Absolutely love the new park near the river! │ Why is the lakefront so poorly lit at night? │            20 │ NULL    │ NULL               │ NULL    │ NULL    │ NULL    │  1000 │            0.00 │\n",
       "└─────────────┴─────────────┴──────────────────────────────────────────────┴──────────────────────────────────────────────┴───────────────┴─────────┴────────────────────┴─────────┴─────────┴─────────┴───────┴─────────────────┘"
      ]
     },
     "execution_count": 4,
     "metadata": {},
     "output_type": "execute_result"
    }
   ],
   "source": [
    "# describe data from parquet file\n",
    "query = \"\"\"\n",
    "SUMMARIZE TABLE './data/mock_ppgis_data.parquet';\n",
    "\"\"\"\n",
    "\n",
    "duckdb.sql(query)"
   ]
  },
  {
   "cell_type": "code",
   "execution_count": 5,
   "id": "0e30643b",
   "metadata": {},
   "outputs": [
    {
     "name": "stdout",
     "output_type": "stream",
     "text": [
      "1000\n",
      "    id                                            comment  \\\n",
      "0  361  The new biking trails are a game-changer. So s...   \n",
      "1  126               Why are the sidewalks always so icy?   \n",
      "2  261  Keskustori always has such a lively vibe. A mu...   \n",
      "3  813  The construction noise on Itsenäisyydenkatu ru...   \n",
      "4  652               Why are the sidewalks always so icy?   \n",
      "\n",
      "                    geometry  \n",
      "0  POINT (23.77382 61.48137)  \n",
      "1  POINT (23.85580 61.48994)  \n",
      "2  POINT (23.67978 61.52243)  \n",
      "3  POINT (23.78402 61.47140)  \n",
      "4  POINT (23.73124 61.50321)  \n"
     ]
    },
    {
     "data": {
      "text/plain": [
       "<Axes: >"
      ]
     },
     "execution_count": 5,
     "metadata": {},
     "output_type": "execute_result"
    },
    {
     "data": {
      "image/png": "[encoded data removed]",
      "text/plain": [
       "<Figure size 640x480 with 1 Axes>"
      ]
     },
     "metadata": {},
     "output_type": "display_data"
    }
   ],
   "source": [
    "# read data from parquet file\n",
    "# Finland base CRS = 3067 \n",
    "\n",
    "query = \"\"\"\n",
    "SELECT *, ST_AsText(centroid) as geometry from './data/mock_ppgis_data.parquet';\n",
    "\"\"\"\n",
    "\n",
    "ppgis_df = duckdb.sql(query).df().drop(columns=['centroid'])\n",
    "ppgis_gdf = gpd.GeoDataFrame(ppgis_df, geometry=gpd.GeoSeries.from_wkt(ppgis_df['geometry']), crs='EPSG:3067')\n",
    "ppgis_gdf = ppgis_gdf.to_crs('EPSG:4326')\n",
    "print(len(ppgis_gdf))\n",
    "print(ppgis_gdf.head())\n",
    "ppgis_gdf.plot()"
   ]
  },
  {
   "cell_type": "code",
   "execution_count": null,
   "id": "0f9c1ea9",
   "metadata": {},
   "outputs": [],
   "source": [
    "# download a pre-trained model from hugging face\n",
    "\n",
    "# define task and model\n",
    "sentiment_pipeline = pipeline(task=\"sentiment-analysis\", model=\"cardiffnlp/twitter-roberta-base-sentiment-latest\")"
   ]
  },
  {
   "cell_type": "code",
   "execution_count": 7,
   "id": "b3c9bad5",
   "metadata": {},
   "outputs": [
    {
     "data": {
      "text/plain": [
       "[{'label': 'negative', 'score': 0.6543532609939575}]"
      ]
     },
     "execution_count": 7,
     "metadata": {},
     "output_type": "execute_result"
    }
   ],
   "source": [
    "# test the model to see what are its outputs\n",
    "sentiment_pipeline(\"asphalt ocean, zero excitement #meh\")"
   ]
  },
  {
   "cell_type": "code",
   "execution_count": 8,
   "id": "5286833b",
   "metadata": {},
   "outputs": [
    {
     "data": {
      "text/plain": [
       "sentiment\n",
       "positive    514\n",
       "negative    486\n",
       "Name: count, dtype: int64"
      ]
     },
     "execution_count": 8,
     "metadata": {},
     "output_type": "execute_result"
    }
   ],
   "source": [
    "# apply the model to the comments in the data\n",
    "ppgis_gdf['sentiment'] = ppgis_gdf['comment'].apply(lambda com: sentiment_pipeline(com)[0]['label'])\n",
    "\n",
    "# check the results\n",
    "ppgis_gdf['sentiment'].value_counts()"
   ]
  },
  {
   "cell_type": "code",
   "execution_count": null,
   "id": "e7cbcd39",
   "metadata": {},
   "outputs": [],
   "source": [
    "ppgis_gdf.explore(column='sentiment', categorical=True, marker_kwds={'radius':5}, style_kwds={'fillOpacity': 1})"
   ]
  },
  {
   "cell_type": "code",
   "execution_count": null,
   "id": "788c35c4",
   "metadata": {},
   "outputs": [],
   "source": []
  }
 ],
 "metadata": {
  "kernelspec": {
   "display_name": ".venv",
   "language": "python",
   "name": "python3"
  },
  "language_info": {
   "codemirror_mode": {
    "name": "ipython",
    "version": 3
   },
   "file_extension": ".py",
   "mimetype": "text/x-python",
   "name": "python",
   "nbconvert_exporter": "python",
   "pygments_lexer": "ipython3",
   "version": "3.12.6"
  }
 },
 "nbformat": 4,
 "nbformat_minor": 5
}
