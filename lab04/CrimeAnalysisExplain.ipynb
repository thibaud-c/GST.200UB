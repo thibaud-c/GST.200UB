{
 "cells": [
  {
   "cell_type": "code",
   "execution_count": null,
   "id": "3bef5b34-6156-4cde-914a-697c1cdf8433",
   "metadata": {
    "editable": true,
    "scrolled": true,
    "slideshow": {
     "slide_type": ""
    },
    "tags": []
   },
   "outputs": [],
   "source": [
    "import duckdb\n",
    "import pandas as pd\n",
    "import numpy as np\n",
    "import geopandas as gpd\n",
    "\n",
    "# analysis and data transformaiton\n",
    "import pysal.lib as ps # calculate moran\n",
    "from pysal.explore import esda\n",
    "import statsmodels.api as sm # for time series\n",
    "\n",
    "# viz\n",
    "from keplergl import KeplerGl\n",
    "import plotly.express as px\n",
    "from IPython.display import IFrame # used to make kepler works\n",
    "import matplotlib.pyplot as plt # basic plot\n",
    "from splot.esda import moran_scatterplot # visualize moran"
   ]
  },
  {
   "cell_type": "code",
   "execution_count": null,
   "id": "05837bef-503d-489e-949d-4dce2295cdc5",
   "metadata": {},
   "outputs": [],
   "source": [
    "duckdb.sql('INSTALL spatial')\n",
    "duckdb.sql('LOAD spatial')\n",
    "duckdb.sql('INSTALL h3')\n",
    "duckdb.sql('LOAD h3')"
   ]
  },
  {
   "cell_type": "markdown",
   "id": "6e62b5d0-65e3-4ebb-b849-c7565957cec5",
   "metadata": {},
   "source": [
    "## Import Crimes 👮 and Community Areas 🍱 into de Jupyter Kernel"
   ]
  },
  {
   "cell_type": "code",
   "execution_count": null,
   "id": "16842cdf-da65-48c1-b725-2600255b8ddd",
   "metadata": {},
   "outputs": [],
   "source": [
    "# crimes & community areas\n",
    "query = \"\"\"\n",
    "-- create com_areas\n",
    "CREATE OR REPLACE TABLE com_areas AS\n",
    "    SELECT *\n",
    "    FROM ST_Read('../lab03/data/Com_Areas.geojson');\n",
    "-- update geometry column name\n",
    "ALTER TABLE com_areas \n",
    "RENAME COLUMN geom to geometry;\n",
    "\n",
    "-- create crimes from parquet\n",
    "CREATE OR REPLACE TABLE crimes AS\n",
    "    SELECT *, ST_Point2D(Longitude, Latitude) as geometry \n",
    "    FROM Read_Parquet('../lab03/data/Crimes.parquet')\n",
    "    WHERE Location IS NOT NULL;\n",
    "\"\"\"\n",
    "\n",
    "duckdb.sql(query)"
   ]
  },
  {
   "cell_type": "code",
   "execution_count": null,
   "id": "aa8ec7dc-ec3e-4158-87e8-b0406d5ebf58",
   "metadata": {},
   "outputs": [],
   "source": [
    "# create a gdf of community areas\n",
    "query = \"\"\"\n",
    "SELECT \n",
    "    ST_AsHexWKB(geometry) AS geometry\n",
    "FROM com_areas;\n",
    "\"\"\"\n",
    "\n",
    "df_com_geom = duckdb.sql(query).df()\n",
    "gdf_com_geom = gpd.GeoDataFrame(\n",
    "    df_com_geom, geometry=gpd.GeoSeries.from_wkb(df_com_geom['geometry']), crs=\"EPSG:4326\"\n",
    ")"
   ]
  },
  {
   "cell_type": "markdown",
   "id": "88222a26-239e-47f4-bd01-9a568fbaed01",
   "metadata": {},
   "source": [
    "## 📈 Mean Center trend per year"
   ]
  },
  {
   "cell_type": "code",
   "execution_count": null,
   "id": "9d73aa13-7997-4543-9c18-6dcedfa54bd7",
   "metadata": {},
   "outputs": [],
   "source": [
    "query = \"\"\"\n",
    "SELECT \n",
    "    cr.\"Primary Type\" as type\n",
    "    , cr.Year as year\n",
    "    , AVG(Latitude) as lat\n",
    "    , AVG(Longitude) as lon\n",
    "FROM crimes cr\n",
    "JOIN com_areas ca ON ST_WITHIN(cr.geometry::GEOMETRY, ca.geometry)\n",
    "GROUP BY cr.\"Primary Type\", cr.Year\n",
    "ORDER BY cr.\"Primary Type\", cr.Year;\n",
    "\"\"\"\n",
    "\n",
    "df_mean = duckdb.sql(query).df()"
   ]
  },
  {
   "cell_type": "code",
   "execution_count": null,
   "id": "beae1133-3dff-4263-a332-f73f0896850b",
   "metadata": {},
   "outputs": [],
   "source": [
    "# visualize all types\n",
    "px.scatter_map(df_mean, lat=\"lat\", lon=\"lon\", hover_name=\"year\",\n",
    "     color='type', zoom=13, height=800,  map_style=\"light\")"
   ]
  },
  {
   "cell_type": "code",
   "execution_count": null,
   "id": "09b70b3d-93d0-4fa0-a53a-c10b2d0f9171",
   "metadata": {
    "scrolled": true
   },
   "outputs": [],
   "source": [
    "# visualize crimes with strong spatial evolution over the year \n",
    "df_theft = df_mean.query('type == \"NARCOTICS\"')\n",
    "\n",
    "px.scatter_map(df_theft, lat=\"lat\", lon=\"lon\", hover_name=\"year\",\n",
    "     color='year', zoom=13, height=800,  map_style=\"light\")"
   ]
  },
  {
   "cell_type": "code",
   "execution_count": null,
   "id": "bc7d4f0c-f72f-4b49-84c5-e45864fa375d",
   "metadata": {},
   "outputs": [],
   "source": [
    "# Visualize mean center of crimes with arrests\n",
    "query = \"\"\"\n",
    "SELECT \n",
    "    cr.Year as year\n",
    "    , AVG(Latitude) as lat\n",
    "    , AVG(Longitude) as lon\n",
    "FROM crimes cr\n",
    "WHERE cr.Arrest IS TRUE\n",
    "GROUP BY cr.Year\n",
    "ORDER BY cr.Year;\n",
    "\"\"\"\n",
    "\n",
    "df_mean = duckdb.sql(query).df()\n",
    "\n",
    "# visualize all types\n",
    "px.scatter_map(df_mean, lat=\"lat\", lon=\"lon\", hover_name=\"year\",\n",
    "               color=\"year\", zoom=13, height=800,  map_style=\"light\")"
   ]
  },
  {
   "cell_type": "markdown",
   "id": "0e4df694-2fce-4b03-b0f1-ca3fbbd2c2b1",
   "metadata": {},
   "source": [
    "## 🥅 Create and visualize a h3 index "
   ]
  },
  {
   "cell_type": "code",
   "execution_count": null,
   "id": "6c526aec-c827-4374-8134-ca613d102ca7",
   "metadata": {},
   "outputs": [],
   "source": [
    "# define a level to the h3 grid\n",
    "h3_level = 8"
   ]
  },
  {
   "cell_type": "code",
   "execution_count": null,
   "id": "50c9deec-87d0-4b96-8c39-39217fbaef52",
   "metadata": {},
   "outputs": [],
   "source": [
    "# add column h3 to crimes\n",
    "query = f\"\"\"\n",
    "ALTER TABLE crimes \n",
    "ADD COLUMN IF NOT EXISTS h3 VARCHAR;\n",
    "\n",
    "UPDATE crimes\n",
    "-- calculate h3 string id from lat lon level\n",
    "SET h3 = h3_latlng_to_cell_string(Latitude, Longitude, {h3_level});\n",
    "\n",
    "-- show the first 5 outputs\n",
    "SELECT * FROM crimes LIMIT 5;\n",
    "\"\"\"\n",
    "duckdb.sql(query)"
   ]
  },
  {
   "cell_type": "code",
   "execution_count": null,
   "id": "889dcb5f-9de4-43a3-bd23-9d550c6dd5c0",
   "metadata": {
    "scrolled": true
   },
   "outputs": [],
   "source": [
    "# Create an empty h3 grid from community area geometries \n",
    "query = f\"\"\"\n",
    "CREATE OR REPLACE TABLE h3_grid AS (\n",
    "WITH hex_strs AS (\n",
    "    -- for each com_areas geometries, get h3 string identifiers\n",
    "    SELECT\n",
    "        -- need to separate the multipolygon in simple polygons\n",
    "        UNNEST(ST_Dump(geometry)).geom.h3_polygon_wkt_to_cells_string({h3_level}) as strs\n",
    "    FROM  \n",
    "        com_areas\n",
    ")\n",
    "    SELECT \n",
    "        -- create a long unique tuple with all h3 str\n",
    "        UNNEST(strs) h3_str\n",
    "        , UNNEST(strs).h3_cell_to_boundary_wkt() as h3_geom \n",
    "    FROM \n",
    "        hex_strs\n",
    ");\n",
    "\n",
    "-- count nb of cell\n",
    "SELECT COUNT(*) as nb_cells from h3_grid;\n",
    "\"\"\" \n",
    "duckdb.sql(query)"
   ]
  },
  {
   "cell_type": "code",
   "execution_count": null,
   "id": "83025f7e-4bcc-418c-98ca-ecdbef23f41c",
   "metadata": {},
   "outputs": [],
   "source": [
    "# join crimes to h3 grid and create a gdf\n",
    "query = \"\"\"\n",
    "SELECT \n",
    "    g.h3_str as hex_id,\n",
    "    g.h3_geom,\n",
    "    COUNT(cr.ID) as nb_crimes\n",
    "FROM h3_grid g\n",
    "LEFT JOIN crimes cr ON g.h3_str = cr.h3 \n",
    "    AND cr.Arrest IS True\n",
    "GROUP BY \n",
    "    hex_id,\n",
    "    g.h3_geom;\n",
    "\"\"\" \n",
    "df_h3 = duckdb.sql(query).df()\n",
    "\n",
    "# Convert pandas DataFrame to GeoDataFrame\n",
    "gdf_h3 = gpd.GeoDataFrame(\n",
    "    df_h3, geometry=gpd.GeoSeries.from_wkt(df_h3['h3_geom']), crs=\"EPSG:4326\"\n",
    ")"
   ]
  },
  {
   "cell_type": "code",
   "execution_count": null,
   "id": "2e6068ed-6a50-47af-ac0b-f2507a31ead2",
   "metadata": {},
   "outputs": [],
   "source": [
    "# visualize the results with a kepler maps\n",
    "kepler_map = KeplerGl()\n",
    "# center the map on the data\n",
    "kepler_map.config['mapState'] = {\n",
    "            'latitude': 41.8781,\n",
    "            'longitude':  -87.6298,\n",
    "            'zoom': 10\n",
    "}\n",
    "\n",
    "# add data to the map\n",
    "kepler_map.add_data(data=df_h3[['hex_id', 'nb_crimes']], name='crimes')\n",
    "\n",
    "# save to html\n",
    "kepler_map.save_to_html(file_name='explore_map.html', config=kepler_map.config)\n",
    "\n",
    "# Visualize the map in a div\n",
    "IFrame(src='./explore_map.html', width=1200, height=800)"
   ]
  },
  {
   "cell_type": "markdown",
   "id": "09961f93-1612-44a0-a52f-ffad53f1a1ec",
   "metadata": {},
   "source": [
    "## 🍱 Spatial Autocorrelation: Moran's I"
   ]
  },
  {
   "cell_type": "code",
   "execution_count": null,
   "id": "c91da8c6-cc16-469e-aff8-11572dd6cc13",
   "metadata": {},
   "outputs": [],
   "source": [
    "# Is my distribution random or not?  \n",
    "\n",
    "# Create Rook contiguity weights as a sparse matrix\n",
    "w = ps.weights.Rook.from_dataframe(gdf_h3, use_index=True)\n",
    "\n",
    "# Row-standardize the weights\n",
    "# see https://pysal.org/libpysal/generated/libpysal.weights.W.html#libpysal.weights.W.set_transform\n",
    "w.transform = 'R'\n",
    "\n",
    "# Calculate Moran's I - Row-standardize the weights\n",
    "# see https://pysal.org/esda/generated/esda.Moran.html\n",
    "mi = esda.Moran(gdf_h3['nb_crimes'].astype('float64'), w)\n",
    "\n",
    "print(\"------\")\n",
    "print(f\"Moran's I: {round(mi.I, 3)}\")\n",
    "print(f\"p-value: {round(mi.p_sim, 4)}\")"
   ]
  },
  {
   "cell_type": "code",
   "execution_count": null,
   "id": "7ab2365d-dac1-4f7f-bfbf-21ddca4b4106",
   "metadata": {},
   "outputs": [],
   "source": [
    "# you can use the splot library to visualize moran's I\n",
    "moran_scatterplot(mi);"
   ]
  },
  {
   "cell_type": "markdown",
   "id": "5856779f-a6ba-45c4-a46e-43ef606e61db",
   "metadata": {},
   "source": [
    "## 🌭 Hot-spot Analysis: Getis-Ord Gi* "
   ]
  },
  {
   "cell_type": "code",
   "execution_count": null,
   "id": "5b04cf2a-2a16-4090-99c5-f6812165152a",
   "metadata": {
    "scrolled": true
   },
   "outputs": [],
   "source": [
    "# Create Rook contiguity weights as a sparse matrix\n",
    "w = ps.weights.Rook.from_dataframe(gdf_h3, use_index=True)\n",
    "\n",
    "# Row-standardize the weights\n",
    "# see https://pysal.org/libpysal/generated/libpysal.weights.W.html#libpysal.weights.W.set_transform\n",
    "w.transform = 'R'\n",
    "\n",
    "# Compute G_Local\n",
    "# see https://pysal.org/esda/generated/esda.G_Local.html\n",
    "g_local = esda.G_Local(gdf_h3['nb_crimes'].astype('float64'), w)\n",
    "\n",
    "# Extract z-scores and p-values\n",
    "gdf_h3['Gi_star_zscore'] = g_local.z_sim\n",
    "gdf_h3['Gi_star_pvalue'] = g_local.p_sim"
   ]
  },
  {
   "cell_type": "code",
   "execution_count": null,
   "id": "4091cf13-135c-4cee-b645-683e2f723974",
   "metadata": {},
   "outputs": [],
   "source": [
    "px.choropleth_map(gdf_h3, geojson=gdf_h3.geometry, locations=gdf_h3.index,\n",
    "                          color='Gi_star_zscore', color_continuous_scale=\"RdBu_r\",\n",
    "                          hover_data=['Gi_star_zscore','Gi_star_pvalue'],\n",
    "                          zoom=10, center={\"lat\": 41.8781, \"lon\": -87.6298}, \n",
    "                          height= 1000, map_style=\"dark\"\n",
    "                 )"
   ]
  },
  {
   "cell_type": "code",
   "execution_count": null,
   "id": "29bb7bbe-08fc-4523-9f3e-bfbd5a6d3a6e",
   "metadata": {},
   "outputs": [],
   "source": [
    "# considering the p-value\n",
    "\n",
    "gdf_h3['cluster'] = 'Not_Significant'\n",
    "# significant hot spot\n",
    "gdf_h3.loc[(gdf_h3['Gi_star_pvalue'] < 0.05) & (gdf_h3['Gi_star_zscore'] > 2.0), 'cluster'] = 'Hotspot_95'\n",
    "gdf_h3.loc[(gdf_h3['Gi_star_pvalue'] < 0.01) & (gdf_h3['Gi_star_zscore'] > 2.0), 'cluster'] = 'Hotspot_99'\n",
    "\n",
    "# significant cold spot\n",
    "gdf_h3.loc[(gdf_h3['Gi_star_pvalue'] < 0.05) & (gdf_h3['Gi_star_zscore'] < -1.5), 'cluster'] = 'Coldspot_95'\n",
    "gdf_h3.loc[(gdf_h3['Gi_star_pvalue'] < 0.01) & (gdf_h3['Gi_star_zscore'] < -1.5), 'cluster'] = 'Coldspot_99'\n",
    "\n",
    "# Convert 'cluster' to categorical\n",
    "gdf_h3['cluster'] = gdf_h3['cluster'].astype('category')\n",
    "\n",
    "# Define discrete color map\n",
    "color_map = {\n",
    "    'Not_Significant': 'lightgray',\n",
    "    'Hotspot_95': 'lightcoral',\n",
    "    'Hotspot_99': 'red',\n",
    "    'Coldspot_95': 'blue',\n",
    "    'Coldspot_99': 'darkblue'\n",
    "}\n",
    "\n",
    "px.choropleth_map(gdf_h3, geojson=gdf_h3.geometry, locations=gdf_h3.index,\n",
    "                          color='cluster', color_discrete_map=color_map,\n",
    "                          hover_data=['Gi_star_zscore','Gi_star_pvalue', 'cluster'],\n",
    "                          zoom=10, center={\"lat\": 41.8781, \"lon\": -87.6298}, \n",
    "                          height= 1000, map_style=\"light\"\n",
    "                 )"
   ]
  },
  {
   "cell_type": "markdown",
   "id": "398c05dc-eb61-43ac-b7c3-6f0b228da538",
   "metadata": {},
   "source": [
    "## 🌶️ Hot-Spot Analysis: Local Moran's I"
   ]
  },
  {
   "cell_type": "code",
   "execution_count": null,
   "id": "84ca6775-6aca-40bb-ac31-80d331994567",
   "metadata": {},
   "outputs": [],
   "source": [
    "# Create Rook contiguity weights as a sparse matrix\n",
    "w = ps.weights.Rook.from_dataframe(gdf_h3, use_index=True)\n",
    "\n",
    "# Row-standardize the weights\n",
    "w.transform = 'R'\n",
    "\n",
    "# Compute Moran_Local\n",
    "# see https://pysal.org/esda/generated/esda.Moran_Local.html#esda.Moran_Local.__init__\n",
    "moran = esda.Moran_Local(gdf_h3['nb_crimes'].astype('float64'), w, geoda_quads=True)\n",
    "\n",
    "# Moran's I value and its significance\n",
    "gdf_h3['moran_cat'] = moran.q\n",
    "gdf_h3['moran_zscore'] = moran.z_sim\n",
    "gdf_h3['moran_pvalue'] = moran.p_sim"
   ]
  },
  {
   "cell_type": "code",
   "execution_count": null,
   "id": "32c21b30-6718-4583-98f8-9b1049971580",
   "metadata": {},
   "outputs": [],
   "source": [
    "# you can visualize local moran values in a scattewr plot with the splot library\n",
    "moran_scatterplot(moran, p=0.05);"
   ]
  },
  {
   "cell_type": "code",
   "execution_count": null,
   "id": "5622feb8-0f46-4a48-b309-fdfa1c1528df",
   "metadata": {},
   "outputs": [],
   "source": [
    "# Visualizing the Z-scores\n",
    "\n",
    "gdf_h3['cluster_moran'] = 'Not_Significant'\n",
    "\n",
    "gdf_h3.loc[(gdf_h3['moran_pvalue'] < 0.10) & (gdf_h3['moran_cat'] == 1), 'cluster_moran'] = 'High-High_90'\n",
    "gdf_h3.loc[(gdf_h3['moran_pvalue'] < 0.10) & (gdf_h3['moran_cat'] == 2), 'cluster_moran'] = 'Low-Low_90'\n",
    "gdf_h3.loc[(gdf_h3['moran_pvalue'] < 0.10) & (gdf_h3['moran_cat'] == 3), 'cluster_moran'] = 'Low-High_90'\n",
    "gdf_h3.loc[(gdf_h3['moran_pvalue'] < 0.10) & (gdf_h3['moran_cat'] == 4), 'cluster_moran'] = 'High-low_90'\n",
    "\n",
    "# Define discrete color map\n",
    "color_map = {\n",
    "    'Not_Significant': 'lightgray',\n",
    "    'High-High_90': 'lightcoral',\n",
    "    'Low-Low_90': 'lightblue',\n",
    "    'Low-High_90': 'blue',\n",
    "    'High-low_90': 'red',\n",
    "}\n",
    "\n",
    "px.choropleth_map(gdf_h3, geojson=gdf_h3.geometry, locations=gdf_h3.index,\n",
    "                          color='cluster_moran', color_discrete_map=color_map,\n",
    "                          hover_data=['moran_zscore', 'moran_pvalue', 'cluster_moran'],\n",
    "                          zoom=10, center={\"lat\": 41.8781, \"lon\": -87.6298}, \n",
    "                          height= 1000, map_style=\"light\", title=\"Anselin Local Moran'I of crime with arrests\"\n",
    "                 )"
   ]
  },
  {
   "cell_type": "code",
   "execution_count": null,
   "id": "c3d8f2e4-6528-4da5-a53d-33fa9c4b7b2d",
   "metadata": {},
   "outputs": [],
   "source": [
    "# Visualizing the p-value\n",
    "\n",
    "gdf_h3['cluster_moran'] = 'Not_Significant'\n",
    "\n",
    "gdf_h3.loc[(gdf_h3['moran_pvalue'] < 0.10), 'cluster_moran'] = 'p-value<0.1'\n",
    "gdf_h3.loc[(gdf_h3['moran_pvalue'] < 0.05), 'cluster_moran'] = 'p-value<0.95'\n",
    "gdf_h3.loc[(gdf_h3['moran_pvalue'] < 0.01), 'cluster_moran'] = 'p-value<0.01'\n",
    "\n",
    "\n",
    "# Define discrete color map\n",
    "color_map = {\n",
    "    'Not_Significant': 'lightgray',\n",
    "    'p-value<0.1': 'lightgreen',\n",
    "    'p-value<0.95': 'green',\n",
    "    'p-value<0.01': 'darkgreen',\n",
    "}\n",
    "\n",
    "px.choropleth_map(gdf_h3, geojson=gdf_h3.geometry, locations=gdf_h3.index,\n",
    "                          color='cluster_moran', color_discrete_map=color_map,\n",
    "                          hover_data=['moran_zscore', 'moran_pvalue', 'cluster_moran'],\n",
    "                          zoom=10, center={\"lat\": 41.8781, \"lon\": -87.6298}, \n",
    "                          height= 1000, map_style=\"light\", title=\"Anselin Local Moran'I p-values for crimes with arrest\"\n",
    "                 )"
   ]
  },
  {
   "cell_type": "markdown",
   "id": "5e851561-1254-40b2-b3fc-824d7f4a5e4a",
   "metadata": {},
   "source": [
    "## ⏲️ Time Series"
   ]
  },
  {
   "cell_type": "markdown",
   "id": "dd5b53d5-c60f-4e17-b2b6-462e5d040e2c",
   "metadata": {},
   "source": [
    "#### 👀 Explore the time series in 3D"
   ]
  },
  {
   "cell_type": "code",
   "execution_count": null,
   "id": "1521ed51-84ab-4333-9e70-181b42db4f84",
   "metadata": {},
   "outputs": [],
   "source": [
    "# Visualize the time series in 3D\n",
    "query = \"\"\"\n",
    "SELECT \n",
    "    g.h3_str as hex_id,\n",
    "    h3_cell_to_latlng(g.h3_str) as geom,\n",
    "    COUNT(cr.ID) as nb_crimes, \n",
    "    (cr.Year - 2001) * 100 as year \n",
    "FROM h3_grid g\n",
    "LEFT JOIN crimes cr ON g.h3_str = cr.h3 \n",
    "    AND cr.Arrest IS TRUE\n",
    "GROUP BY \n",
    "    hex_id,\n",
    "    geom,\n",
    "    cr.Year;\n",
    "\"\"\" \n",
    "df_h3 = duckdb.sql(query).df()\n",
    "\n",
    "# Convert pandas DataFrame to GeoDataFrame\n",
    "df_h3[['lat', 'lon']] = pd.DataFrame(df_h3['geom'].tolist(), index=df_h3.index)"
   ]
  },
  {
   "cell_type": "code",
   "execution_count": null,
   "id": "f89998b6-82b5-4270-a92e-29d18d2c548a",
   "metadata": {},
   "outputs": [],
   "source": [
    "# create map \n",
    "kepler_map = KeplerGl()\n",
    "# center the map on the data\n",
    "kepler_map.config['mapState'] = {\n",
    "            'latitude': 41.8781,\n",
    "            'longitude':  -87.6298,\n",
    "            'zoom': 10\n",
    "}\n",
    "\n",
    "# add data to the map\n",
    "kepler_map.add_data(data=df_h3[['lat', 'lon', 'year', 'nb_crimes']], name='crimes')\n",
    "\n",
    "# save to html\n",
    "kepler_map.save_to_html(file_name='explore_map.html', config=kepler_map.config)\n",
    "\n",
    "# Visualize the map in a div\n",
    "IFrame(src='./explore_map.html', width=1200, height=800)"
   ]
  },
  {
   "cell_type": "code",
   "execution_count": null,
   "id": "f7e2e6ed-21c5-4661-a6cc-f5e48ee311db",
   "metadata": {},
   "outputs": [],
   "source": [
    "px.scatter_3d(df_h3, x=\"lon\", y=\"lat\", z='year', size='nb_crimes', color='nb_crimes', height= 1000)"
   ]
  },
  {
   "cell_type": "markdown",
   "id": "32cd6cf5-2c39-4a61-ab7f-d8080214bb64",
   "metadata": {},
   "source": [
    "#### 📈 Visualize the time series"
   ]
  },
  {
   "cell_type": "code",
   "execution_count": null,
   "id": "fd7d0743-fcd8-4946-81d7-b406a0dcea2e",
   "metadata": {},
   "outputs": [],
   "source": [
    "# Visualize the time series in 3D\n",
    "query = \"\"\"\n",
    "SELECT \n",
    "    g.h3_str as hex_id,\n",
    "    h3_cell_to_latlng(g.h3_str) as geom,\n",
    "    COUNT(cr.ID) as nb_crimes, \n",
    "    cr.Date as date\n",
    "FROM h3_grid g\n",
    "LEFT JOIN crimes cr ON g.h3_str = cr.h3 \n",
    "    AND cr.Arrest IS TRUE\n",
    "    AND cr.Year BETWEEN 2019 AND 2024\n",
    "GROUP BY \n",
    "    hex_id,\n",
    "    geom,\n",
    "    date,\n",
    "    cr.Year\n",
    "ORDER BY date;\n",
    "\"\"\" \n",
    "\n",
    "crimes_time_series = duckdb.sql(query).df().dropna(subset=['date'])\n",
    "\n",
    "crimes_time_series[['lat', 'lon']] = pd.DataFrame(crimes_time_series['geom'].tolist(), index=crimes_time_series.index)"
   ]
  },
  {
   "cell_type": "code",
   "execution_count": null,
   "id": "ad7a30aa-e6b6-4fb1-af1c-c72aa87a943e",
   "metadata": {},
   "outputs": [],
   "source": [
    "# Reindex the Time Series per year\n",
    "indexed_ts = crimes_time_series.copy()\n",
    "indexed_ts.set_index('date', inplace=True)"
   ]
  },
  {
   "cell_type": "code",
   "execution_count": null,
   "id": "eec7ac6c-3553-429b-bbb3-bfbaa06f5271",
   "metadata": {},
   "outputs": [],
   "source": [
    "# visualize the time series in time\n",
    "\n",
    "# Decompose the time series\n",
    "decomposition = sm.tsa.seasonal_decompose(indexed_ts['nb_crimes'], model='additive', period=4)\n",
    "fig = decomposition.plot()\n",
    "fig.set_size_inches((16, 9))\n",
    "# Tight layout to realign things\n",
    "fig.tight_layout()\n",
    "plt.show()"
   ]
  },
  {
   "cell_type": "code",
   "execution_count": null,
   "id": "85dc5f15-e47d-4cba-9a0e-2599374c93ea",
   "metadata": {},
   "outputs": [],
   "source": [
    "# visualize per day count\n",
    "\n",
    "# Resample data to get daily crime counts\n",
    "daily_ts = indexed_ts.resample('D').size()\n",
    "\n",
    "# Reset index for modeling\n",
    "daily_ts = daily_ts.reset_index()\n",
    "daily_ts.columns = ['date', 'nb_crimes']\n",
    "\n",
    "px.line(daily_ts, x='date', y='nb_crimes', title='Daily Crime Counts (2019-2024)')"
   ]
  }
 ],
 "metadata": {
  "kernelspec": {
   "display_name": "Python 3 (ipykernel)",
   "language": "python",
   "name": "python3"
  },
  "language_info": {
   "codemirror_mode": {
    "name": "ipython",
    "version": 3
   },
   "file_extension": ".py",
   "mimetype": "text/x-python",
   "name": "python",
   "nbconvert_exporter": "python",
   "pygments_lexer": "ipython3",
   "version": "3.12.3"
  }
 },
 "nbformat": 4,
 "nbformat_minor": 5
}
