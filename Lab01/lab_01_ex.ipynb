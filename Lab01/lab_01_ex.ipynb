{
 "cells": [
  {
   "cell_type": "markdown",
   "id": "4b3d1307",
   "metadata": {},
   "source": [
    "# Supermarket Accessibility in Graz\n"
   ]
  },
  {
   "cell_type": "markdown",
   "id": "4e9702e8",
   "metadata": {},
   "source": [
    "## Introduction"
   ]
  },
  {
   "cell_type": "markdown",
   "id": "df1b53f7",
   "metadata": {},
   "source": [
    "In this exercise, we will perform a GIS analysis using Python to examine supermarket accessibility in Graz, Austria. We’ll replicate an analysis similar to a previous study of distances to the nearest Migros supermarkets in Switzerland, but this time focusing on two major Austrian chains: **Spar** and **Billa**. \n",
    "\n",
    "📝 **Linkedin post:** [Arthur A. 2024](https://www.linkedin.com/posts/carbonateturi_you-are-on-average-only-78-km-away-from-activity-7234914074541633536-m11_?utm_source=share&utm_medium=member_desktop&rcm=ACoAAArGF6IBIaCC_rrWE714nEvgGuEgcd1Buy0)"
   ]
  },
  {
   "cell_type": "markdown",
   "id": "109a69c8",
   "metadata": {},
   "source": [
    "### 1️⃣ Getting Started with GitHub and Setup"
   ]
  },
  {
   "cell_type": "markdown",
   "id": "654e2a2a",
   "metadata": {},
   "source": [
    "First, let's get the materials for this exercise. The exercise is available on GitHub at https://github.com/thibaud-c/GST.200UB. You can **clone** the repository with Git:\n",
    "\n",
    "In you terminal ...\n",
    "\n",
    ">```shell\n",
    ">git clone https://github.com/thibaud-c/GST.200UB.git\n",
    ">```"
   ]
  },
  {
   "cell_type": "markdown",
   "id": "272b2ad8",
   "metadata": {},
   "source": [
    "💡 _before executing the `git clone` command make sure that you are in the good folder_!"
   ]
  },
  {
   "cell_type": "markdown",
   "id": "7eb5dfe9",
   "metadata": {},
   "source": [
    "#### 🔄 get updates of the exercise from github\n",
    "\n",
    "###### Check the **status** of the repo and see what you changed:\n",
    "```sh\n",
    "git status\n",
    "```\n",
    "\n",
    "###### **Pull** new changes from the origin (github)\n",
    "```sh\n",
    "git pull\n",
    "```\n",
    "\n",
    "If you did some changes your might have an error:\n",
    "```sh\n",
    "error: Your local changes to the following files would be overwritten by merge:\n",
    "    notebook.ipynb\n",
    "Please commit your changes or stash them before you merge.\n",
    "```\n",
    "\n",
    "🤔 we should **stash** or **commit**\n",
    "\n",
    "###### Temporarily save your changes with **stash**\n",
    "```sh\n",
    "git stash\n",
    "git status\n",
    "```\n",
    "\n",
    "> ℹ️ Save your local modifications in a hidden “stash” pile.\n",
    "> Revert your working directory to the last committed state.\n",
    "\n",
    "After the status you should now see “nothing to commit”.\n",
    "\n",
    "###### **Pull** the latest updates\n",
    "```sh\n",
    "git pull\n",
    "```\n",
    "\n",
    "✌️ It worked!\n",
    "\n",
    "###### Bring your changes back\n",
    "```sh\n",
    "git stash pop\n",
    "```\n",
    "\n",
    "###### 😱 Deal with any conflicts\n",
    "If you and I edited the same cell in the same notebook, Git might show:\n",
    "```sh\n",
    "CONFLICT (content): Merge conflict in notebook.ipynb\n",
    "...\n",
    "...\n",
    "both modified: ...\n",
    "```\n",
    "\n",
    "Open VS code, left tab `source control` you should see a file in the merge changes with a ❗, click on it to resolve the conflict!\n",
    "\n",
    "Find all highlithed texts you should see something like: \n",
    "```diff\n",
    "<<<<<< Updated stream @@\n",
    "-    change from origin\n",
    "======\n",
    "+    your changes\n",
    ">>>>>> Stashed Changes (Incoming Change)\n",
    "```\n",
    "Keep on of the changes, for instance the results should look like\n",
    "\n",
    "```sh\n",
    "    change you need\n",
    "```\n",
    "\n",
    "Check if there is any other highlighted text, if this is not the case you can click on `Resolve in Merge Editor` and then `Complete Merge`, `complete with conflict` and `Merge with conflict`\n",
    "\n",
    "Now you are good to go 🎉"
   ]
  },
  {
   "cell_type": "markdown",
   "id": "0dc26089",
   "metadata": {},
   "source": [
    "---"
   ]
  },
  {
   "cell_type": "markdown",
   "id": "84935002",
   "metadata": {},
   "source": [
    "#### 😱 If you have an error in Python: \n",
    "1. **Read it!** What is it about? do you understand it?\n",
    "2. Discussed with your neighbord, do they have an idea on how to solve the issue?\n",
    "3. Check on google if someone as a similar error (add your python version)\n",
    "4. (optional) ask chatGPT with a **precise** prompt, do not copy paste blindly your error!!\n",
    "5. raise your hand to ask for help"
   ]
  },
  {
   "cell_type": "markdown",
   "id": "09908e55",
   "metadata": {},
   "source": [
    "---"
   ]
  },
  {
   "cell_type": "markdown",
   "id": "ceb9f3c4",
   "metadata": {},
   "source": [
    "**Environment Setup**: This notebook uses several Python libraries that you may need to install:\n",
    "\n",
    "- `osmnx`:[doc](https://osmnx.readthedocs.io) for retrieving OpenStreetMap data,\n",
    "- `geopandas`:[doc](https://geopandas.org) for geospatial data handling,\n",
    "- `shapely`:[doc](https://shapely.readthedocs.io) for geometric operations,\n",
    "- `keplergl`:[doc](https://github.com/keplergl/kepler.gl/blob/master/README.md) for interactive map visualization,\n",
    "\n",
    "plus standard ones like `pandas` and `matplotlib`."
   ]
  },
  {
   "cell_type": "markdown",
   "id": "675f648a",
   "metadata": {},
   "source": [
    "You are probably used to install python libraries with `pip` or `conda`, while these tools are great, they are extremely slow...\n",
    "\n",
    "In this course we will use [uv](https://github.com/astral-sh/uv), which is 10 to 100 times faster! ⚡"
   ]
  },
  {
   "cell_type": "code",
   "execution_count": null,
   "id": "df3770d4",
   "metadata": {},
   "outputs": [],
   "source": [
    "# the ! is to run shell commands from the notebook\n",
    "!pip install uv "
   ]
  },
  {
   "cell_type": "markdown",
   "id": "a8705985",
   "metadata": {},
   "source": [
    "Now, you can install any missing packages at lightning speed by running a cell with `!uv pip install` as shown below."
   ]
  },
  {
   "cell_type": "code",
   "execution_count": null,
   "id": "913a7991",
   "metadata": {},
   "outputs": [],
   "source": [
    "# Install required libraries (run this if needed)\n",
    "!uv pip install osmnx geopandas shapely keplergl matplotlib"
   ]
  },
  {
   "cell_type": "markdown",
   "id": "d98f131b",
   "metadata": {},
   "source": [
    "### 2️⃣ Principles of Good Coding Practice"
   ]
  },
  {
   "cell_type": "markdown",
   "id": "e083a4e6",
   "metadata": {},
   "source": [
    "Before diving into code, let's briefly introduce a few software engineering principles that will help keep our code clean, understandable, and maintainable:\n",
    "\n",
    "- **DRY** – Don't Repeat Yourself: Avoid writing duplicate code. If you need the same logic in multiple places, consider defining a function or loop to reuse it. This makes code easier to update and less error-prone.\n",
    "- **KISS** – Keep It Simple, Stupid: Strive for simplicity. Write code in a straightforward way rather than using overly complex or clever solutions. Simple code is easier to understand and debug.\n",
    "- **SOC** – Separation of Concerns: Organize your code so that different functionality or concerns are separated. For example, data retrieval, data processing, and visualization could be in separate sections or functions. This makes the code modular and easier to manage.\n",
    "\n",
    "Throughout the exercise, keep these principles in mind. We'll try to write code that is concise and clear, without unnecessary repetition, and logically structured in steps."
   ]
  },
  {
   "cell_type": "markdown",
   "id": "436a4bcf",
   "metadata": {},
   "source": [
    "This notebook assembles OpenStreetMap data with `osmnx`, shapes the output with `geopandas`, and renders an interactive Kepler.gl map. Distance bands use lighter blues for near-in coverage and progressively darker tones for remoteness.\n"
   ]
  },
  {
   "cell_type": "markdown",
   "id": "97f2699d",
   "metadata": {},
   "source": [
    "### 3️⃣ Data Acquisition with OSMnx"
   ]
  },
  {
   "cell_type": "markdown",
   "id": "5b9cef6f",
   "metadata": {},
   "source": [
    "🎯 **Goal:** Turn a place name into a boundary polygon and project to an Austrian metric CRS for distance work.\n",
    "\n",
    "📚 **Read:** In this section, we'll use the OSMnx library to fetch real-time data from OpenStreetMap (OSM). \n",
    "\n",
    "OSMnx ▸ *Geocoding & boundaries* → `geocode_to_gdf`  \n",
    "https://osmnx.readthedocs.io/en/stable/osmnx.html#osmnx.geocoder.geocode_to_gdf\n",
    "\n",
    "💡 **Information:**\n",
    "\n",
    "> By default, OSMnx returns data in a latitude-longitude CRS (EPSG:4326). For distance calculations (like creating buffers of a certain radius in meters), it's better to work in a projected CRS where units are in meters.\n",
    "\n",
    "🚀 **Tasks:**\n",
    "- define a place name\n",
    "- get the boundary of the place\n",
    "- Change the data to the right crs\n",
    "\n",
    "🧠 **Reflect:** \n",
    "- Why is a projected CRS essential for buffers?\n",
    "- Which CRS would you pick for Austria? Why?\n"
   ]
  },
  {
   "cell_type": "code",
   "execution_count": null,
   "id": "b00cd6c5",
   "metadata": {},
   "outputs": [],
   "source": [
    "# import osmnx\n",
    "import osmnx as ox"
   ]
  },
  {
   "cell_type": "code",
   "execution_count": null,
   "id": "16ebe56f",
   "metadata": {},
   "outputs": [],
   "source": [
    "# define the place name\n",
    "place_name:str = \"Graz, Austria\""
   ]
  },
  {
   "cell_type": "code",
   "execution_count": null,
   "id": "4146679a",
   "metadata": {},
   "outputs": [],
   "source": [
    "# get the boundary polygon of Graz\n",
    "\n",
    "\n",
    "# change the crs to an Austrian metric CRS EPSG: 31256\n"
   ]
  },
  {
   "cell_type": "markdown",
   "id": "25bd4e4e",
   "metadata": {},
   "source": [
    "👀 **Inspect your results**\n",
    "- what did you downloaded?\n",
    "- what datatype?\n",
    "- how does it looks? \n",
    "\n",
    "You can use the function `.plot()` to visualize your data."
   ]
  },
  {
   "cell_type": "code",
   "execution_count": null,
   "id": "44bf895c",
   "metadata": {},
   "outputs": [],
   "source": [
    "# fill the gap\n",
    "___.plot(color='grey') # quick look of the data in grey"
   ]
  },
  {
   "cell_type": "markdown",
   "id": "7111f8aa",
   "metadata": {},
   "source": [
    "### 4️⃣ Fetch supermarkets from OpenStreetMap\n",
    "\n",
    "🎯 **Goal:** Retrieve all features tagged supermarket within Graz.\n",
    "\n",
    "📚 **Read:** OSMnx ▸ *POI & features* → `features_from_place`  \n",
    "https://osmnx.readthedocs.io/en/stable/osmnx.html#osmnx.features.features_from_place\n",
    "\n",
    "💡 **Information:**\n",
    "OSM classifies features by tags (key–value pairs). \n",
    "\n",
    "🚀 **Tasks:**\n",
    "- Create `tags = {\"__\": \"__\"}`\n",
    "- Call `features_from_place` with `city_name` and `tags`\n",
    "- Observe the multi-index (`node`, `way`, `relation`).\n",
    "- What are the columns present in your data? what are the ones that are relevant for the exercise?\n",
    "\n",
    "🧠 **Reflect:**  Why might OSMnx return both \"node\" and \"way\" features for supermarkets?"
   ]
  },
  {
   "cell_type": "code",
   "execution_count": null,
   "id": "5269e0ef",
   "metadata": {},
   "outputs": [],
   "source": [
    "tags = {\"key\": \"value\"} # define the tags to filter for supermarkets\n",
    "\n",
    "# download all supermarkets in Graz & change the crs\n",
    "\n",
    "# inspect the data\n",
    "___.plot()"
   ]
  },
  {
   "cell_type": "code",
   "execution_count": null,
   "id": "d01ae92d",
   "metadata": {},
   "outputs": [],
   "source": [
    "# check all columns\n",
    "___.columns.tolist()"
   ]
  },
  {
   "cell_type": "code",
   "execution_count": null,
   "id": "61f8314a",
   "metadata": {},
   "outputs": [],
   "source": [
    "# keep only relevant columns\n",
    "___ = ___[['col1', 'col2', 'col3']] # double bracket to extract a subset of your data"
   ]
  },
  {
   "cell_type": "markdown",
   "id": "d733dd55",
   "metadata": {},
   "source": [
    "💡 \n",
    "You can use a f-string to insert values within {} directly into text"
   ]
  },
  {
   "cell_type": "code",
   "execution_count": null,
   "id": "19b45088",
   "metadata": {},
   "outputs": [],
   "source": [
    "print(f\"Total supermarket features retrieved: {__}\") "
   ]
  },
  {
   "cell_type": "markdown",
   "id": "82f4d39b",
   "metadata": {},
   "source": [
    "### 4️⃣ Harmonize geometry: nodes vs ways\n",
    "\n",
    "🎯 **Goal:** Work with **points** for all supermarkets.\n",
    "\n",
    "📚 **Read:** Shapely ▸ `representative_point()`  \n",
    "https://shapely.readthedocs.io/en/stable/manual.html#object.representative_point\n",
    "\n",
    "🚀 **Tasks:**\n",
    "- Extract `nodes` (already points)\n",
    "- Extract `ways` (often polygons) and convert to `representative_point()`\n",
    "- Compare the two point sets visually/numerically\n",
    "- Concatenate back together into a single points GeoDataFrame\n",
    "\n",
    "🧠 **Reflect:** What is a `representative_point()`? Why not use centroid?"
   ]
  },
  {
   "cell_type": "code",
   "execution_count": null,
   "id": "5c409d6a",
   "metadata": {},
   "outputs": [],
   "source": [
    "# separate two specific supermarkets formats into their own variable\n",
    "__n = ___.loc['__'].copy() # copy a specific row by its index\n",
    "__w = ___.loc['__'].copy() \n",
    "\n",
    "# transform polygons to points\n",
    "__w['geometry'] = __w.geometry.representative_point()"
   ]
  },
  {
   "cell_type": "markdown",
   "id": "b2d20024",
   "metadata": {},
   "source": [
    "- How many supermarket has each of you variable? \n",
    "- What are the `brand` present in Graz? Are they overlapping? What do you notice for Billa or Spar supermarkets?\n",
    "> you can use `.unique()` to get unique values"
   ]
  },
  {
   "cell_type": "code",
   "execution_count": null,
   "id": "f25a3d84",
   "metadata": {},
   "outputs": [],
   "source": []
  },
  {
   "cell_type": "markdown",
   "id": "505b5532",
   "metadata": {},
   "source": [
    "👀 Let's visualize the result. We will use [Matplotlib](https://matplotlib.org/stable/).\n",
    "\n",
    "What is the parameter to change the size of __n and __w? you can check the documentation!"
   ]
  },
  {
   "cell_type": "code",
   "execution_count": null,
   "id": "f5906e91",
   "metadata": {},
   "outputs": [],
   "source": [
    "import matplotlib as plt\n",
    "\n",
    "# Create a figure with 1 row and 2 columns to plot both data side by side\n",
    "fig, axes = plt.subplots(1, 2, figsize=(18, 6))\n",
    "\n",
    "# define a plot in the first column of the figure, change the color and size\n",
    "__n.plot(ax=axes[0], color='blue', __=10)\n",
    "axes[0].set_title('Your Nice Title 😎')\n",
    "\n",
    "# define a plot in the second column of the figure, change the color and width\n",
    "__w.plot(ax=axes[1], color='green', __=3)\n",
    "axes[0].set_title('Your Nice Title 😎')\n",
    "\n",
    "# Adjust layout to avoid overlap\n",
    "plt.tight_layout()\n",
    "\n",
    "# Display the plots\n",
    "plt.show()"
   ]
  },
  {
   "cell_type": "markdown",
   "id": "24900af5",
   "metadata": {},
   "source": [
    "Are the dataset overlapping? What is the drawback of matplolib for data exploration? \n",
    "\n",
    "We will use [KeplerGL](https://docs.kepler.gl/docs/keplergl-jupyter)."
   ]
  },
  {
   "cell_type": "code",
   "execution_count": null,
   "id": "4c2c1b34",
   "metadata": {},
   "outputs": [],
   "source": [
    "from keplergl import KeplerGl\n",
    "\n",
    "# create your map from the example in the documentation!\n",
    "# you can add as layer as you want with add_data(), they will be display from the bottom to the top\n"
   ]
  },
  {
   "cell_type": "markdown",
   "id": "3f3f8d1b",
   "metadata": {},
   "source": [
    "Now we can concatenate your __n and __w "
   ]
  },
  {
   "cell_type": "code",
   "execution_count": null,
   "id": "bf78df25",
   "metadata": {},
   "outputs": [],
   "source": [
    "# we will use pandas to concatenate the two GeoDataFrames\n",
    "import pandas as pd\n",
    "import geopandas as gpd\n",
    "\n",
    "# 2) Concatenate rows; keep geometry column and CRS explicit\n",
    "__ = __.GeoDataFrame(\n",
    "    pd.concat([__n, __w], ignore_index=True), # concat() is used to merge two DataFrames, ignore_index=True to reindex the new DataFrame\n",
    "    geometry=__, # what is the geometry column name? \n",
    "    crs=__ # how to get the CRS of a GeoDataFrame?\n",
    ")"
   ]
  },
  {
   "cell_type": "code",
   "execution_count": null,
   "id": "1df4ce11",
   "metadata": {},
   "outputs": [],
   "source": [
    "# sanity check:\n",
    "print(len(__), len(__), len(__))"
   ]
  },
  {
   "cell_type": "markdown",
   "id": "4d03371f",
   "metadata": {},
   "source": [
    "### 5️⃣ Filter by brand: Billa & Spar\n",
    "\n",
    "🎯 **Goal:** Keep only known chains. The `brand` tag may be missing for some entries.\n",
    "\n",
    "🚀 **Tasks:**\n",
    "- Drop rows where `brand` is missing.\n",
    "- Create `gdf_billa` and `gdf_spar` using case‑insensitive string filter on `brand`.\n",
    "- Count each.\n",
    "\n",
    "🧠 **Reflect:**\n",
    "- Which brand is more common in Graz in OSM?\n",
    "- What other supermarket brands are present in Graz according to OpenStreetMap? What does that say about coverage?\n",
    "- What does the `str.contains('__', case=False) accomplish? Why do we use case=False and na=False?"
   ]
  },
  {
   "cell_type": "code",
   "execution_count": null,
   "id": "a262a1b6",
   "metadata": {},
   "outputs": [],
   "source": [
    "# drop none values in your data on a specific column and reset the index\n",
    "__ = __.__(subset=[__]).reset_index(drop=True)\n",
    "\n",
    "# filter your data on a specific column and reset the index\n",
    "gdf_sup = __[__['__'].str.contains('__', case=False, na=False)].reset_index(drop=True)\n"
   ]
  },
  {
   "cell_type": "markdown",
   "id": "ca355aa8",
   "metadata": {},
   "source": [
    "### 7️⃣ Distance bands (buffers)\n",
    "\n",
    "🎯 **Goal:** Create simple distance bands around stores, then dissolve overlaps to get coverage zones.\n",
    "\n",
    "🚀 **Tasks:**\n",
    "- Choose distances in metres, e.g.: `[250, 500, 1000, 2500]`\n",
    "- For each brand, make buffers and `dissolve()` per distance.\n",
    "- Keep the city boundary for context (clip buffers if you wish).\n",
    "\n",
    "\n",
    "You can toggle layers on/off in the Kepler layer control panel (on the right) to see the coverage of each buffer distance.\n",
    "\n",
    "By default, Kepler might assign random colors. You can click on a layer in the control panel to change its color or opacity. For example, you might color the smaller buffer a light blue and larger buffers progressively darker blue to mimic the idea that darker = more distant.\n",
    "\n",
    "Zoom and pan around Graz to see which areas are not covered by, say, the 250m or 500m buffers (these would be areas that are more than that distance away from any Billa).\n",
    "\n",
    "🧠 **Reflect:**\n",
    "What buffer distances make sense for **walking** accessibility? "
   ]
  },
  {
   "cell_type": "code",
   "execution_count": null,
   "id": "60eecabd",
   "metadata": {},
   "outputs": [],
   "source": [
    "DISTS:list[int] = [250, 500, 1000, 2500]  # in meters"
   ]
  },
  {
   "cell_type": "code",
   "execution_count": null,
   "id": "662b086f",
   "metadata": {},
   "outputs": [],
   "source": [
    "gdf_sup_buf = gdf_sup.copy() # make a copy of your data to not alter the original one\n",
    "for d in DISTS:\n",
    "    # create buffers for each distance and add a new column to your data\n",
    "    gdf_sup_buf[f'buffer_{__}m'] = gdf_sup_buf.geometry.__ # how to create a buffer of d meters around each point?"
   ]
  },
  {
   "cell_type": "code",
   "execution_count": null,
   "id": "ab9fdd82",
   "metadata": {},
   "outputs": [],
   "source": [
    "# create each buffer geometry\n",
    "\n",
    "gdf_sup__ = gpd.GeoDataFrame(geometry=__).dissolve()\n",
    "# repeat for each distance "
   ]
  },
  {
   "cell_type": "markdown",
   "id": "85364486",
   "metadata": {},
   "source": [
    "### 8️⃣ Interactive map with Kepler.gl\n",
    "\n",
    "🎯 **Goal:** Explore your results\n",
    "\n",
    "📚 **Read:** Kepler.gl Jupyter quickstart  \n",
    "https://github.com/keplergl/kepler.gl/tree/master/bindings/kepler.gl-jupyter\n",
    "\n",
    "🚀 **Tasks:**\n",
    "Add layers for:\n",
    "- City boundary\n",
    "- Store points (Billa or Spar)\n",
    "- The buffer layers (dissolved)\n",
    "\n",
    "💡 **Information:** \n",
    "- You can toggle layers on/off in the Kepler layer control panel (on the right) to see the coverage of each buffer distance.\n",
    "- By default, Kepler might assign random colors. You can click on a layer in the control panel to change its color or opacity. For example, you might color the smaller buffer a light blue and larger buffers progressively darker blue to mimic the idea that darker = more distant.\n",
    "- Zoom and pan around Graz to see which areas are not covered by, say, the 250m or 500m buffers (these would be areas that are more than that distance away from any Billa).\n",
    "\n",
    "\n",
    "🧠 **Reflect:**\n",
    "- What do you observe about the supermarket brand coverage in Graz? Are there parts of the city beyond 1000m (1 km) from the nearest supermarket?\n",
    "- Compare your map with the distribution of the your colleagues that worked on a different brand. What differences do you observe.\n",
    "- Which chain seems to have better coverage in Graz? Are there large gaps in one chain's coverage that are covered by the other?"
   ]
  },
  {
   "cell_type": "code",
   "execution_count": null,
   "id": "d8577410",
   "metadata": {},
   "outputs": [],
   "source": [
    "kmap = KeplerGl(height=500)\n",
    "\n",
    "# add you data to the map (don't forget the city boundariy and the supermarkets locations)\n",
    "\n",
    "kmap"
   ]
  },
  {
   "cell_type": "markdown",
   "id": "4384b673",
   "metadata": {},
   "source": [
    "Following the DRY principle, what 2 techniques could you use to make your code cleaner? Implement one."
   ]
  },
  {
   "cell_type": "code",
   "execution_count": null,
   "id": "fc46338c",
   "metadata": {},
   "outputs": [],
   "source": []
  },
  {
   "cell_type": "markdown",
   "id": "f922c215",
   "metadata": {},
   "source": [
    "### 9️⃣ Stretch goal: Calculate the average distance estimation to supermarket in Graz\n",
    "\n",
    "🎯 **Goal:** Calculate an area-weighted average using a representative distance (the mid-point of each ring).\n",
    "\n",
    "🚀 **Tasks:**\n",
    "1. Calculate the area of each of the buffer\n",
    "2. Calculate the ring areas by differences of cumulative areas (e.g. A500 − A250). \n",
    "3. Calculate the area not fitting within the buffer (`outside_area`)\n",
    "4. Do a weighted average of the rings (multiply each ring’s area by its mid-point distance), don't forget to add the `outside_area`\n",
    "5. (Optional 🥊) Per-cell version: Instead of a single city number, overlay the rings with a 1 km² grid and compute the same area-weighted average per cell.\n",
    "\n",
    "💡 **Information:**\n",
    "- Using ring mid-points reduces the upward bias you’d get from weighting by the upper edge of each band.\n",
    "- Pick a plausible representative value for areas beyond your largest radius: `outside_area` \n"
   ]
  },
  {
   "cell_type": "code",
   "execution_count": null,
   "id": "795d05c3",
   "metadata": {},
   "outputs": [],
   "source": [
    "MID:list[int] = [125, 375, 750, 1750]  # mid-points of each ring\n",
    "OUT_MID:int = 3000  # representative distance for areas beyond largest ring\n",
    "\n",
    "city_area = __.geometry.area.sum()\n",
    "\n",
    "ring_areas = [\n",
    "    250,  # area within 250m\n",
    "    500-250,  # area within 250-500m\n",
    "    __,  # area within 500-1000m\n",
    "    __,  # area within 1000-2500m\n",
    "]\n",
    "outside_area = city_area - __"
   ]
  },
  {
   "cell_type": "markdown",
   "id": "26ece599",
   "metadata": {},
   "source": [
    "💡 **Information:**\n",
    "The function `zip()` pairs two array together.\n",
    "> ```python\n",
    "> t1 = [1, 2, 3, 4]\n",
    "> t2 = ['a', 'b', 'c', 'd']\n",
    "> zip(t1, t2)\n",
    "> # [(1, 'a'), (2, 'b'), (3, 'c'), (4, 'd')]\n",
    "> ```"
   ]
  },
  {
   "cell_type": "code",
   "execution_count": null,
   "id": "09a14075",
   "metadata": {},
   "outputs": [],
   "source": [
    "# zip the MID values with ... \n",
    "zip_array = zip(MID, __)\n",
    "\n",
    "# calculate the sum of the weighted distances\n",
    "sum_weighted = sum(\n",
    "    __*__ for a, m in zip_array # multiply each ring’s area by its mid-point distance, this a compact way to do for loop\n",
    "    ) + __ * __\n",
    "\n",
    "# calculate the average distance\n",
    "avg_dist_m = sum_weighted / __\n",
    "\n",
    "print(f\"Pseudo-average distance to nearest Spar/Billa (city-wide): {avg_dist_m:.0f} m\")"
   ]
  },
  {
   "cell_type": "code",
   "execution_count": null,
   "id": "75d9a194",
   "metadata": {},
   "outputs": [],
   "source": [
    "# this line is to clear the output of the notebook, so that when you commit it, it is clean\n",
    "!jupyter nbconvert --clear-output --inplace lab_01_ex.ipynb"
   ]
  }
 ],
 "metadata": {
  "kernelspec": {
   "display_name": "venv-gst200b",
   "language": "python",
   "name": "python3"
  },
  "language_info": {
   "codemirror_mode": {
    "name": "ipython",
    "version": 3
   },
   "file_extension": ".py",
   "mimetype": "text/x-python",
   "name": "python",
   "nbconvert_exporter": "python",
   "pygments_lexer": "ipython3",
   "version": "3.13.5"
  }
 },
 "nbformat": 4,
 "nbformat_minor": 5
}
