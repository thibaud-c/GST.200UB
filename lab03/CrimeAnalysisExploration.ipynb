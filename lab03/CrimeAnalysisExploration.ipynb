{
 "cells": [
  {
   "cell_type": "code",
   "execution_count": null,
   "id": "10dd74af-8539-46ac-a84e-f06d8f6bc0d0",
   "metadata": {
    "editable": true,
    "slideshow": {
     "slide_type": ""
    },
    "tags": []
   },
   "outputs": [],
   "source": [
    "# import data transformation\n",
    "import duckdb\n",
    "import pandas as pd\n",
    "import numpy as np\n",
    "import geopandas as gpd\n",
    "from shapely import wkb\n",
    "\n",
    "# viz\n",
    "from keplergl import KeplerGl\n",
    "from IPython.display import IFrame\n",
    "import matplotlib.pyplot as plt\n",
    "import plotly.express as px"
   ]
  },
  {
   "cell_type": "code",
   "execution_count": null,
   "id": "f34f757c-d02d-4e8f-87d9-4191b2213edd",
   "metadata": {
    "tags": []
   },
   "outputs": [],
   "source": [
    "duckdb.sql('INSTALL spatial')\n",
    "duckdb.sql('LOAD spatial')"
   ]
  },
  {
   "cell_type": "markdown",
   "id": "dc18a36c-9774-4747-958e-4acb13019642",
   "metadata": {},
   "source": [
    "## Import data"
   ]
  },
  {
   "cell_type": "markdown",
   "id": "c7b1c2c1-7439-4542-9eb3-5e745e40dae8",
   "metadata": {},
   "source": [
    "### 👮 Crimes"
   ]
  },
  {
   "cell_type": "markdown",
   "id": "f6c75cf9-88e3-4b0f-a1b2-8b80bb0cdcb0",
   "metadata": {},
   "source": [
    "#### Table description"
   ]
  },
  {
   "cell_type": "code",
   "execution_count": null,
   "id": "e1b2120a-58b9-40d2-be15-135c58557ed7",
   "metadata": {
    "tags": []
   },
   "outputs": [],
   "source": [
    "query = \"\"\"\n",
    "DESCRIBE TABLE 'data/Crimes.csv';\n",
    "\"\"\"\n",
    "\n",
    "duckdb.sql(query)"
   ]
  },
  {
   "cell_type": "code",
   "execution_count": null,
   "id": "0ed5a519-83be-4390-a18a-e1fca479c89b",
   "metadata": {},
   "outputs": [],
   "source": [
    "query = \"\"\"\n",
    "SUMMARIZE TABLE 'data/Crimes.csv';\n",
    "\"\"\"\n",
    "\n",
    "duckdb.sql(query)"
   ]
  },
  {
   "cell_type": "markdown",
   "id": "d1b900be-5663-497c-bd80-7031807d7422",
   "metadata": {},
   "source": [
    "#### Count Null values"
   ]
  },
  {
   "cell_type": "code",
   "execution_count": null,
   "id": "ba668e94-8ee5-47e9-b89e-357418c9db9f",
   "metadata": {
    "tags": []
   },
   "outputs": [],
   "source": [
    "query = \"\"\"\n",
    "SELECT \n",
    "    SUM(CASE WHEN Location IS NULL THEN 1 ELSE 0 END) AS count_nulls\n",
    "    , COUNT(Location) AS tot_values\n",
    "    , count_nulls/tot_values*100 AS percent \n",
    "FROM 'data/Crimes.csv';\n",
    "\"\"\"\n",
    "\n",
    "duckdb.sql(query)"
   ]
  },
  {
   "cell_type": "code",
   "execution_count": null,
   "id": "2a7c50cb-7545-4fcc-a068-17b5da9dd609",
   "metadata": {},
   "outputs": [],
   "source": [
    "query = \"\"\"\n",
    "SELECT COUNT(ID) AS count, Year\n",
    "FROM 'data/Crimes.csv'\n",
    "WHERE Location IS NULL\n",
    "GROUP BY Year\n",
    "ORDER BY Year DESC;\n",
    "\"\"\"\n",
    "\n",
    "df = duckdb.sql(query).df()\n",
    "px.bar(df, x='Year', y='count', width=800, height=800)"
   ]
  },
  {
   "cell_type": "markdown",
   "id": "be75a6ab-cfa3-44a2-90bf-42540973968f",
   "metadata": {
    "jp-MarkdownHeadingCollapsed": true
   },
   "source": [
    "#### Create Crimes table"
   ]
  },
  {
   "cell_type": "code",
   "execution_count": null,
   "id": "0040e83e-e434-4b4e-9771-6725adbb756e",
   "metadata": {
    "tags": []
   },
   "outputs": [],
   "source": [
    "query = \"\"\"\n",
    "CREATE OR REPLACE TABLE crimes AS\n",
    "SELECT * FROM 'data/Crimes.csv'\n",
    "WHERE Location IS NOT NULL;\n",
    "\"\"\"\n",
    "\n",
    "duckdb.sql(query)"
   ]
  },
  {
   "cell_type": "code",
   "execution_count": null,
   "id": "c701a295-7689-4302-a4cc-0c1bd276ecf1",
   "metadata": {
    "tags": []
   },
   "outputs": [],
   "source": [
    "query = \"\"\"\n",
    "ALTER TABLE crimes \n",
    "ADD COLUMN geometry GEOMETRY;\n",
    "UPDATE crimes\n",
    "SET geometry = ST_Point2D(Longitude, Latitude);\n",
    "\"\"\"\n",
    "\n",
    "duckdb.sql(query)"
   ]
  },
  {
   "cell_type": "code",
   "execution_count": null,
   "id": "8ab75245-afb9-4171-a8a7-66ac459492ea",
   "metadata": {
    "tags": []
   },
   "outputs": [],
   "source": [
    "query = \"\"\"\n",
    "SELECT COUNT(*) FROM crimes;\n",
    "\"\"\"\n",
    "\n",
    "duckdb.sql(query)"
   ]
  },
  {
   "cell_type": "markdown",
   "id": "564ef614-7e3d-4b27-b63d-d19104ea48e9",
   "metadata": {
    "jp-MarkdownHeadingCollapsed": true
   },
   "source": [
    "### 🍱 Commnity Areas"
   ]
  },
  {
   "cell_type": "code",
   "execution_count": null,
   "id": "084856a3-8b90-477d-8efc-12692ff1cb68",
   "metadata": {},
   "outputs": [],
   "source": [
    "query = \"\"\"\n",
    "SELECT\n",
    "    layers[1].geometry_fields[1].crs.auth_name as name,\n",
    "    layers[1].geometry_fields[1].crs.auth_code as code\n",
    "FROM st_read_meta('data/Com_Areas.geojson');\n",
    "\"\"\"\n",
    "\n",
    "duckdb.sql(query)"
   ]
  },
  {
   "cell_type": "code",
   "execution_count": null,
   "id": "7edc0394-e84c-406e-a2e6-fb51b62c4269",
   "metadata": {
    "tags": []
   },
   "outputs": [],
   "source": [
    "query = \"\"\"\n",
    "CREATE OR REPLACE TABLE com_areas AS\n",
    "SELECT * FROM ST_Read('data/Com_Areas.geojson');\n",
    "ALTER TABLE com_areas \n",
    "RENAME COLUMN geom to geometry;\n",
    "\"\"\"\n",
    "\n",
    "duckdb.sql(query)"
   ]
  },
  {
   "cell_type": "code",
   "execution_count": null,
   "id": "852206ca-5c6b-4ea1-a05d-7046041f6a1e",
   "metadata": {
    "tags": []
   },
   "outputs": [],
   "source": [
    "query = \"\"\"\n",
    "DESCRIBE com_areas;\n",
    "\"\"\"\n",
    "\n",
    "duckdb.sql(query)"
   ]
  },
  {
   "cell_type": "markdown",
   "id": "b2d90999-8eb2-4d91-8109-3e5227c1017e",
   "metadata": {},
   "source": [
    "## First Exploration: Global statistics"
   ]
  },
  {
   "cell_type": "markdown",
   "id": "82d2faf5-14b5-4576-93da-76ec5ef31129",
   "metadata": {
    "jp-MarkdownHeadingCollapsed": true
   },
   "source": [
    "#### 😱 Q1-2 Which is the most dangerous year in Chicago? (more crimes reported?)"
   ]
  },
  {
   "cell_type": "code",
   "execution_count": null,
   "id": "3f51d00e-66fe-4031-88d1-b5bad3147e3a",
   "metadata": {},
   "outputs": [],
   "source": [
    "# Most dangerous year\n",
    "\n",
    "query = \"\"\"\n",
    "SELECT Year, COUNT(*) as count \n",
    "FROM crimes \n",
    "GROUP BY Year \n",
    "ORDER BY count DESC \n",
    "LIMIT 1;\n",
    "\"\"\"\n",
    "\n",
    "duckdb.sql(query)"
   ]
  },
  {
   "cell_type": "code",
   "execution_count": null,
   "id": "243c2cea-53a7-4605-8713-90333aab5ed3",
   "metadata": {},
   "outputs": [],
   "source": [
    "# number of crimes by year\n",
    "\n",
    "query = \"\"\"\n",
    "SELECT Year, COUNT(*) AS nb FROM crimes WHERE Year <> 2024 GROUP BY Year;\n",
    "\"\"\"\n",
    "\n",
    "df = duckdb.sql(query).df()\n",
    "df.set_index('Year').plot(kind='bar', y='nb')"
   ]
  },
  {
   "cell_type": "code",
   "execution_count": null,
   "id": "c3981240-9a70-4dbf-a260-28bd4ca35131",
   "metadata": {},
   "outputs": [],
   "source": [
    "# let's make it interactive with plotly \n",
    "\n",
    "fig = px.bar(df, x='Year', y='nb', width=800, height=500)\n",
    "fig.show()"
   ]
  },
  {
   "cell_type": "markdown",
   "id": "9970ba99-c36f-4501-8d0c-29a4a81a5214",
   "metadata": {
    "jp-MarkdownHeadingCollapsed": true
   },
   "source": [
    "#### ⏰ Q3 What is most dangerous hours of the day?"
   ]
  },
  {
   "cell_type": "code",
   "execution_count": null,
   "id": "bd88b52a-0ba8-4546-a582-640d29bb565a",
   "metadata": {},
   "outputs": [],
   "source": [
    "# hours of the day\n",
    "\n",
    "query = \"\"\"\n",
    "SELECT strftime('%H', Date) AS hour, count(ID) AS nb\n",
    "FROM crimes \n",
    "GROUP BY hour\n",
    "ORDER BY hour ASC;\n",
    "\"\"\"\n",
    "\n",
    "df = duckdb.sql(query).df()\n",
    "px.bar(df, x='hour', y='nb', width=800, height=800)"
   ]
  },
  {
   "cell_type": "markdown",
   "id": "a3cf1015-baf0-4e91-95c4-7d63f8f2d3cd",
   "metadata": {
    "jp-MarkdownHeadingCollapsed": true
   },
   "source": [
    "#### 📅 Q3 What is most dangerous day of week?"
   ]
  },
  {
   "cell_type": "code",
   "execution_count": null,
   "id": "113a73f2-d825-4cc3-aed2-763d09d04f38",
   "metadata": {},
   "outputs": [],
   "source": [
    "# reported crimes per week day\n",
    "\n",
    "query = \"\"\"\n",
    "SELECT strftime('%A', Date) AS day, count(ID) AS nb \n",
    "FROM crimes \n",
    "GROUP BY day\n",
    "\"\"\"\n",
    "\n",
    "df = duckdb.sql(query).df()\n",
    "cats= ['Monday', 'Tuesday', 'Wednesday', 'Thursday', 'Friday', 'Saturday', 'Sunday']\n",
    "df= df.set_index('day').reindex(cats).reset_index()\n",
    "px.bar(df, x='day', y='nb', width=800, height=800)"
   ]
  },
  {
   "cell_type": "markdown",
   "id": "f3c33568-4f03-4a3c-be49-97388615eb7c",
   "metadata": {
    "jp-MarkdownHeadingCollapsed": true
   },
   "source": [
    "#### 🎄 Q4 How many crimes have been committed for NYE?"
   ]
  },
  {
   "cell_type": "code",
   "execution_count": null,
   "id": "ad2675ae-f439-4297-8d5f-2d4b39ed2e04",
   "metadata": {
    "tags": []
   },
   "outputs": [],
   "source": [
    "# reported crimes at midnight on the 01.01 of each year\n",
    "\n",
    "query = \"\"\"\n",
    "SELECT Year, count(ID) as nb \n",
    "FROM crimes \n",
    "WHERE strftime('%Y-%m-%d %H:%M:%S', Date) == strftime('%Y-01-01 00:00:00', Date)\n",
    "GROUP BY Year;\n",
    "\"\"\"\n",
    "\n",
    "df = duckdb.sql(query).df()\n",
    "px.bar(df, x='Year', y='nb', width=800, height=800)"
   ]
  },
  {
   "cell_type": "code",
   "execution_count": null,
   "id": "4a820b01-7da4-4e55-a422-e65c3118be73",
   "metadata": {},
   "outputs": [],
   "source": [
    "query = \"\"\"\n",
    "SELECT count(ID)\n",
    "FROM crimes \n",
    "WHERE strftime('%Y-%m-%d %H:%M:%S', Date) == strftime('%Y-01-01 00:00:00', Date)\n",
    "\"\"\"\n",
    "duckdb.sql(query)"
   ]
  },
  {
   "cell_type": "markdown",
   "id": "2b60eeef-2305-4aed-8a31-db25165803f0",
   "metadata": {
    "jp-MarkdownHeadingCollapsed": true
   },
   "source": [
    "#### 😒 Q5 What is the most common crime that end up in an arrest?"
   ]
  },
  {
   "cell_type": "code",
   "execution_count": null,
   "id": "fede1bd0-0edd-411d-b7c1-768bde431b24",
   "metadata": {},
   "outputs": [],
   "source": [
    "# number of crimes by types\n",
    "\n",
    "query = \"\"\"\n",
    "SELECT \"Primary Type\" AS type, COUNT(ID) AS count\n",
    "FROM crimes \n",
    "WHERE Arrest IS TRUE\n",
    "GROUP BY \"Primary Type\"\n",
    "ORDER BY count DESC;\n",
    "\"\"\"\n",
    "\n",
    "df = duckdb.sql(query).df()\n",
    "px.bar(df, x='type', y='count', width=800, height=800)"
   ]
  },
  {
   "cell_type": "code",
   "execution_count": null,
   "id": "745de44b-8564-47a8-83cd-fd1136d0edc8",
   "metadata": {},
   "outputs": [],
   "source": [
    "# Most arrested crime by year\n",
    "\n",
    "query = \"\"\"\n",
    "WITH crime_count AS (\n",
    "  SELECT \"Primary Type\" AS type, \n",
    "         COUNT(ID) AS count, \n",
    "         Year\n",
    "  FROM crimes \n",
    "  WHERE Arrest IS TRUE\n",
    "  GROUP BY \"Primary Type\", Year\n",
    "),\n",
    "max_counts AS (\n",
    "  SELECT Year,\n",
    "         MAX(count) as max_count\n",
    "  FROM crime_count\n",
    "  GROUP BY Year\n",
    ")\n",
    "SELECT cc.type, \n",
    "       cc.count,\n",
    "       cc.Year\n",
    "FROM crime_count cc\n",
    "JOIN max_counts mc \n",
    "  ON cc.Year = mc.Year \n",
    "  AND cc.count = mc.max_count\n",
    "ORDER BY cc.Year DESC;\n",
    "\"\"\"\n",
    "\n",
    "duckdb.sql(query).show(max_rows=100)"
   ]
  },
  {
   "cell_type": "markdown",
   "id": "1cb1a530-bed5-4c6e-a44b-3819cdf8ce6d",
   "metadata": {
    "jp-MarkdownHeadingCollapsed": true
   },
   "source": [
    "#### 📈 Q6 Trends for the most comment crime over the years"
   ]
  },
  {
   "cell_type": "code",
   "execution_count": null,
   "id": "a959b85b-7b82-443f-89c0-6118e00852d3",
   "metadata": {},
   "outputs": [],
   "source": [
    "# number of crimes by types\n",
    "\n",
    "query = \"\"\"\n",
    "SELECT \"Primary Type\" AS type, Year, COUNT(ID) AS count \n",
    "FROM crimes \n",
    "GROUP BY \"Primary Type\", Year\n",
    "ORDER BY Year DESC;\n",
    "\"\"\"\n",
    "\n",
    "df = duckdb.sql(query).df()\n",
    "px.line(df, x='Year', y='count', color=\"type\", width=900, height=800)"
   ]
  },
  {
   "cell_type": "markdown",
   "id": "10516f3d-5991-4797-bfb9-bb9ae0718783",
   "metadata": {
    "jp-MarkdownHeadingCollapsed": true
   },
   "source": [
    "#### 🚓  Q7 Most typical crime per community areas"
   ]
  },
  {
   "cell_type": "code",
   "execution_count": null,
   "id": "51126f51-cfae-498e-9b97-b21c2b0dd733",
   "metadata": {},
   "outputs": [],
   "source": [
    "query = \"\"\"\n",
    "SELECT community, \"Primary Type\", crime_count FROM (\n",
    "    SELECT \n",
    "        ca.community\n",
    "        , ca.area_numbe\n",
    "        , c.\"Primary Type\"\n",
    "        , COUNT(c.ID) as crime_count\n",
    "        , ROW_NUMBER() OVER (PARTITION BY ca.area_numbe ORDER BY COUNT(c.ID) DESC) as rn\n",
    "    FROM crimes c\n",
    "    JOIN com_areas ca ON c.\"Community Area\" = ca.area_numbe\n",
    "    WHERE c.Year=2023\n",
    "    GROUP BY \n",
    "        ca.community\n",
    "        , ca.area_numbe\n",
    "        , c.\"Primary Type\"\n",
    "        , ca.geometry\n",
    ") ranked\n",
    "WHERE rn = 1;\n",
    "\"\"\"\n",
    "\n",
    "# Fetching the data into a pandas DataFrame\n",
    "duckdb.sql(query).show(max_rows=100)"
   ]
  },
  {
   "cell_type": "code",
   "execution_count": null,
   "id": "e06f7b2b-a8ef-4f78-90bb-856c6b5bf4f3",
   "metadata": {},
   "outputs": [],
   "source": [
    "query = \"\"\"\n",
    "SELECT * FROM (\n",
    "    SELECT \n",
    "        ca.community\n",
    "        , ca.area_numbe\n",
    "        , c.\"Primary Type\"\n",
    "        , COUNT(c.ID) as crime_count\n",
    "        , ROW_NUMBER() OVER (PARTITION BY ca.area_numbe ORDER BY COUNT(c.ID) DESC) as rn\n",
    "        , ST_AsHexWKB(ca.geometry) AS geometry\n",
    "    FROM crimes c\n",
    "    JOIN com_areas ca ON c.\"Community Area\" = ca.area_numbe\n",
    "    WHERE c.Year=2023\n",
    "    GROUP BY \n",
    "        ca.community\n",
    "        , ca.area_numbe\n",
    "        , c.\"Primary Type\"\n",
    "        , ca.geometry\n",
    ") ranked\n",
    "WHERE rn = 1;\n",
    "\"\"\"\n",
    "\n",
    "# Fetching the data into a pandas DataFrame\n",
    "df_crimes_comarea = duckdb.sql(query).df()\n",
    "\n",
    "# Convert pandas DataFrame to GeoDataFrame\n",
    "gdf_crimes_comarea = gpd.GeoDataFrame(\n",
    "    df_crimes_comarea, geometry=gpd.GeoSeries.from_wkb(df_crimes_comarea['geometry']), crs=\"EPSG:4326\"\n",
    ")\n",
    "\n",
    "fig = px.choropleth_map(gdf_crimes_comarea, geojson=gdf_crimes_comarea['geometry'], \n",
    "                           locations=gdf_crimes_comarea.index, color=gdf_crimes_comarea['Primary Type'], \n",
    "                            hover_data=['community', 'area_numbe', 'crime_count'], color_continuous_scale=\"agsunset\",\n",
    "                           zoom=10, center={\"lat\": 41.8781, \"lon\": -87.6298}, \n",
    "                           labels={'crime_count': 'Crimes Count'}, height= 1000,\n",
    "                            map_style=\"dark\"\n",
    "                          )\n",
    "fig.show()"
   ]
  },
  {
   "cell_type": "markdown",
   "id": "74926dda-103d-46f4-b2b5-6a8a0e84d69c",
   "metadata": {
    "jp-MarkdownHeadingCollapsed": true
   },
   "source": [
    "#### 🍱 Q8 Number of crimes per community areas"
   ]
  },
  {
   "cell_type": "code",
   "execution_count": null,
   "id": "cd20ffc7-ee59-4faf-a557-dcc9c5db37f7",
   "metadata": {},
   "outputs": [],
   "source": [
    "query = \"\"\"\n",
    "SELECT ca.community, count(c.ID) AS count\n",
    "FROM crimes c\n",
    "JOIN com_areas ca ON \n",
    "    c.\"Community Area\" = ca.area_numbe\n",
    "GROUP BY ca.community\n",
    "ORDER BY count;\n",
    "\"\"\"\n",
    "\n",
    "# Fetching the data into a pandas DataFrame\n",
    "duckdb.sql(query).show(max_rows=100)"
   ]
  },
  {
   "cell_type": "code",
   "execution_count": null,
   "id": "9d25b2aa-f41a-4c28-8139-104c4d3cf25d",
   "metadata": {},
   "outputs": [],
   "source": [
    "query = \"\"\"\n",
    "SELECT ca.community, ca.area_numbe, count(c.ID) AS count, ST_AsHexWKB(ca.geometry) AS geometry\n",
    "FROM crimes c\n",
    "JOIN com_areas ca ON \n",
    "    c.\"Community Area\" = ca.area_numbe\n",
    "GROUP BY ca.area_numbe, ca.community, ca.geometry\n",
    "\"\"\"\n",
    "\n",
    "# Fetching the data into a pandas DataFrame\n",
    "df_crimes_count = duckdb.sql(query).df()\n",
    "\n",
    "# Convert pandas DataFrame to GeoDataFrame\n",
    "gdf_crimes_count = gpd.GeoDataFrame(\n",
    "    df_crimes_count, geometry=gpd.GeoSeries.from_wkb(df_crimes_count['geometry']), crs=\"EPSG:4326\"\n",
    ")"
   ]
  },
  {
   "cell_type": "code",
   "execution_count": null,
   "id": "6429e34d-502d-4bf7-92b0-39173585a3df",
   "metadata": {
    "tags": []
   },
   "outputs": [],
   "source": [
    "# Matplotlib visualization\n",
    "\n",
    "# Plotting the result\n",
    "fig, ax = plt.subplots(figsize=(12, 8))\n",
    "gdf_crimes_count.plot(\n",
    "    column='count',\n",
    "    cmap='OrRd',  # Optional: colour scheme\n",
    "\n",
    "    legend=True,\n",
    "    ax=ax,\n",
    "    legend_kwds={'label': \"Number of crimes\", 'shrink': 0.6}\n",
    ")\n",
    "\n",
    "# Setting plot titles and labels\n",
    "ax.set_title('Number of crimes per Community Areas')\n",
    "ax.set_xlabel('Longitude')\n",
    "ax.set_ylabel('Latitude')\n",
    "\n",
    "# Optional: turn off axis visibility\n",
    "ax.axis('off')\n",
    "\n",
    "# Ensure layout is properly adjusted\n",
    "plt.tight_layout()\n",
    "\n",
    "# Display the plot\n",
    "plt.show()"
   ]
  },
  {
   "cell_type": "code",
   "execution_count": null,
   "id": "3228e0d1-9f1c-467f-abf7-dc2727a15fe3",
   "metadata": {},
   "outputs": [],
   "source": [
    "fig = px.choropleth_map(gdf_crimes_count, geojson=gdf_crimes_count['geometry'], \n",
    "                           locations=gdf_crimes_count.index, color='count', \n",
    "                            hover_data=['community', 'area_numbe'], color_continuous_scale=\"agsunset\",\n",
    "                           zoom=10, center={\"lat\": 41.8781, \"lon\": -87.6298}, \n",
    "                           labels={'count': 'Crimes Count'}, height= 1000,\n",
    "                            map_style=\"dark\"\n",
    "                          )\n",
    "fig.show()"
   ]
  },
  {
   "cell_type": "code",
   "execution_count": null,
   "id": "b65cbaf8-b4fa-4a92-8d42-5f13af8f295c",
   "metadata": {},
   "outputs": [],
   "source": [
    "# create an interactive map with Kepler\n",
    "\n",
    "# create map \n",
    "kepler_map = KeplerGl()\n",
    "# center the map on the data\n",
    "kepler_map.config['mapState'] = {\n",
    "            'latitude': gdf_crimes_count.iloc[0].geometry.centroid.y,\n",
    "            'longitude': gdf_crimes_count.iloc[0].geometry.centroid.x,\n",
    "            'zoom': 10\n",
    "}\n",
    "\n",
    "# Add data to the map\n",
    "kepler_map.add_data(data= gdf_crimes_count, name='crimes')\n",
    "\n",
    "# save to html\n",
    "kepler_map.save_to_html(file_name='explore_map.html', config=kepler_map.config)\n",
    "\n",
    "# Visualize the map in a div\n",
    "IFrame(src='./explore_map.html', width=800, height=800)"
   ]
  },
  {
   "cell_type": "markdown",
   "id": "f35db245-7353-4417-af29-a4d52dd5a3a1",
   "metadata": {
    "jp-MarkdownHeadingCollapsed": true
   },
   "source": [
    "#### 🎨 Q9 Random sample per type of crimes - crimes distribution and data animation"
   ]
  },
  {
   "cell_type": "code",
   "execution_count": null,
   "id": "7bd3c803-3de3-422a-9ae0-c0df5194ebc6",
   "metadata": {
    "editable": true,
    "slideshow": {
     "slide_type": ""
    },
    "tags": []
   },
   "outputs": [],
   "source": [
    "query = \"\"\"\n",
    "SELECT strftime('%Y-%m-%d %H:%M:%S', Date) as date, Year, cr.ID, \"Primary Type\" AS type, cr.Latitude, cr.Longitude, ST_AsHEXWKB(cr.geometry) AS geometry\n",
    "FROM crimes cr\n",
    "    TABLESAMPLE(5 percent)\n",
    "JOIN com_areas ca ON \n",
    "    ST_WITHIN(cr.geometry, ca.geometry)\n",
    "\"\"\"\n",
    "\n",
    "# Fetching the data into a pandas DataFrame\n",
    "df_crimes_type_overall = duckdb.sql(query).df()\n",
    "\n",
    "# Convert pandas DataFrame to GeoDataFrame\n",
    "gdf_crimes_type_overall = gpd.GeoDataFrame(\n",
    "    df_crimes_type_overall, geometry=gpd.GeoSeries.from_wkb(df_crimes_type_overall['geometry']), crs=\"EPSG:4326\"\n",
    ")\n",
    "\n",
    "gdf_crimes_type_overall.count()"
   ]
  },
  {
   "cell_type": "code",
   "execution_count": null,
   "id": "3f52a97a-52b1-4b3a-8825-e1ea16e7d710",
   "metadata": {},
   "outputs": [],
   "source": [
    "# Converting the WKB geometries to shapely geometries\n",
    "\n",
    "fig, ax = plt.subplots(figsize=(8, 12))\n",
    "\n",
    "gdf_crimes_type_overall.plot(\n",
    "    ax=ax,\n",
    "    column='type',       # Column to use for colouring the plot\n",
    "    cmap='Set1',         # A qualitative colour map suitable for categories\n",
    "    markersize=3,        # Size of the markers (applies to point geometries)\n",
    "    legend=False,         # Show a legend\n",
    "    categorical=True,    # Treat the 'type' column as categorical data\n",
    "    marker='+',\n",
    ")\n",
    "\n",
    "# Setting plot titles and labels\n",
    "ax.set_title('Distribution of crimes per types')\n",
    "\n",
    "# Optional: turn off axis visibility\n",
    "ax.axis('off')\n",
    "\n",
    "# Ensure layout is properly adjusted\n",
    "plt.tight_layout()\n",
    "\n",
    "# Display the plot\n",
    "plt.show()"
   ]
  },
  {
   "cell_type": "code",
   "execution_count": null,
   "id": "61d6e0c4-69c7-43a6-a39e-cbe503bedd61",
   "metadata": {},
   "outputs": [],
   "source": [
    "# create an interactive map with Kepler\n",
    "\n",
    "# create map \n",
    "kepler_map = KeplerGl()\n",
    "# center the map on the data\n",
    "kepler_map.config['mapState'] = {\n",
    "            'latitude': gdf_crimes_type_overall.iloc[0].geometry.centroid.y,\n",
    "            'longitude': gdf_crimes_type_overall.iloc[0].geometry.centroid.x,\n",
    "            'zoom': 10\n",
    "}\n",
    "\n",
    "# add data to the map\n",
    "kepler_map.add_data(data= gdf_crimes_type_overall, name='crimes')\n",
    "\n",
    "# save to html\n",
    "kepler_map.save_to_html(file_name='explore_map.html', config=kepler_map.config)\n",
    "\n",
    "# Visualize the map in a div\n",
    "IFrame(src='./explore_map.html', width=1200, height=800)"
   ]
  },
  {
   "cell_type": "markdown",
   "id": "242eea14-9e99-48c5-8003-e75c491e2e46",
   "metadata": {},
   "source": [
    "## Density Analysis"
   ]
  },
  {
   "cell_type": "markdown",
   "id": "7fd8b368-9fd9-48b9-aafc-bd09995ffb60",
   "metadata": {},
   "source": [
    "#### 🌶️  Q10 HeatMap KDE"
   ]
  },
  {
   "cell_type": "code",
   "execution_count": null,
   "id": "b7c65b41-02e4-418a-9370-13c2e75def75",
   "metadata": {},
   "outputs": [],
   "source": [
    "def kde_plot(df: gpd.GeoDataFrame, ax, title: str, lon: str='Longitude', lat: str='Latitude', grid_size: int=100, vmax=100 ):\n",
    "    \"\"\"\n",
    "    Plots a kernel density estimate (KDE) of point data from a DataFrame anchored in a figure\n",
    "\n",
    "    Parameters:\n",
    "        gdf : geopandas.GeoDataFrame\n",
    "            GeoDataFrame containing the point geometries.\n",
    "        ax : matplotlib.axes.Axes\n",
    "            Matplotlib axes on which to plot.\n",
    "        title : str\n",
    "            Title of the plot.\n",
    "        lon : str, optional\n",
    "            Column longitude in the df.\n",
    "        lat : str, optional\n",
    "            Column latitude in the df.\n",
    "        grid_size : complex or int, optional\n",
    "            Grid size for the KDE calculation. Defaults to 100\n",
    "        vmax : int, optional\n",
    "            max value of the density - range of the legend\n",
    "    \"\"\"\n",
    "    # apply a gaussian KDE to the coordinates of the df \n",
    "    # we need to transpose the coordinates to have one row with Longitude values and one row with Latitude values\n",
    "    kde = gaussian_kde(df[[lon, lat]].T)\n",
    "    \n",
    "    # create a grid to plot the KDE values\n",
    "    # the grid goes from min to max in grid_size steps\n",
    "    x_steps = np.linspace(df[lon].min(), df[lon].max(), grid_size)\n",
    "    y_steps = np.linspace(df[lat].min(), df[lat].max(), grid_size) \n",
    "    # create a 2D grid of x and y coordinates\n",
    "    x_grid, y_grid = np.meshgrid(x_steps, y_steps)\n",
    "    # ravel() flattens each grid array into a 1D array\n",
    "    # np.vstack stacks these 1D arrays so that each column represents a coordinate pair\n",
    "    grid = np.vstack([x_grid.ravel(), y_grid.ravel()])\n",
    "\n",
    "    # calculate the density scores on the grid\n",
    "    Z_score = kde(grid).reshape(x_grid.shape)\n",
    "\n",
    "    # create a filled contour graph based on the grid and density score\n",
    "    countour = ax.contourf(x_grid, y_grid, Z_score, cmap='viridis', vmin=0, vmax=vmax)\n",
    "    # add contour lines to emphasize the density gradient\n",
    "    ax.contour(x_grid, y_grid, Z_score, levels=10, colors='black', linewidths=0.2, vmin=0, vmax=60)\n",
    "\n",
    "    # customize plot\n",
    "    ax.set_title(title)\n",
    "    ax.set_xlabel(lon)\n",
    "    ax.set_ylabel(lat)\n",
    "    # add a colour bar\n",
    "    plt.colorbar(countour, ax=ax, label='Density')"
   ]
  },
  {
   "cell_type": "code",
   "execution_count": null,
   "id": "0c3ed944-24bf-49af-a65e-7263311519b4",
   "metadata": {},
   "outputs": [],
   "source": [
    "# Get the NACROTICS type for YEARs 2001, 2012, 2023\n",
    "query = \"\"\"\n",
    "SELECT cr.ID, cr.\"Primary Type\" AS type, cr.Latitude, cr.Longitude, cr.Year\n",
    "FROM crimes cr\n",
    "JOIN com_areas ca ON \n",
    "    ST_WITHIN(cr.geometry, ca.geometry)\n",
    "WHERE cr.\"Primary Type\" = 'NARCOTICS'\n",
    "    AND cr.Year in (2001,2012,2023)\n",
    "\"\"\"    \n",
    "# Fetch data and convert to GeoDataFrame\n",
    "df_crimes = duckdb.sql(query).df()"
   ]
  },
  {
   "cell_type": "code",
   "execution_count": null,
   "id": "7fc5b983-dac5-413f-bc48-4f8ceeedae72",
   "metadata": {},
   "outputs": [],
   "source": [
    "# Get community areas geometries to print the border \n",
    "query = \"\"\"\n",
    "SELECT ca.community, ca.area_numbe, ST_AsHexWKB(ca.geometry) AS geometry\n",
    "FROM com_areas ca;\n",
    "\"\"\"\n",
    "\n",
    "# Fetching the data into a pandas DataFrame\n",
    "df_ca = duckdb.sql(query).df()\n",
    "\n",
    "# Convert pandas DataFrame to GeoDataFrame\n",
    "gdf_ca = gpd.GeoDataFrame(\n",
    "    df_ca, geometry=gpd.GeoSeries.from_wkb(df_ca['geometry']), crs=\"EPSG:4326\"\n",
    ")"
   ]
  },
  {
   "cell_type": "code",
   "execution_count": null,
   "id": "6e243d1f-45b2-4560-b781-87f68b444ca1",
   "metadata": {},
   "outputs": [],
   "source": [
    "# create the kde of the 3 years next to each others\n",
    "# plot the KDE\n",
    "fig, ax = plt.subplots(1, 3, figsize=(24, 6))\n",
    "\n",
    "# 2001\n",
    "kde_plot(df_crimes.query(\"Year == 2001\").reset_index(), ax[0], 'Narcotics 2001', vmax = 120)\n",
    "# add limits of community areas if defined\n",
    "gdf_ca.plot(ax=ax[0], facecolor='none', edgecolor='black', linewidths=0.3)\n",
    "\n",
    "# 2012\n",
    "kde_plot(df_crimes.query(\"Year == 2012\"), ax[1], 'Narcotics 2012', vmax = 120)\n",
    "# add limits of community areas if defined\n",
    "gdf_ca.plot(ax=ax[1], facecolor='none', edgecolor='black', linewidths=0.3)\n",
    "\n",
    "# 2023\n",
    "kde_plot(df_crimes.query(\"Year == 2023\"), ax[2], 'Narcotics 2023', vmax = 120)\n",
    "# add limits of community areas if defined\n",
    "gdf_ca.plot(ax=ax[2], facecolor='none', edgecolor='black', linewidths=0.3)\n",
    "\n",
    "plt.show()"
   ]
  },
  {
   "cell_type": "code",
   "execution_count": null,
   "id": "08fc7691-82b6-41b3-b201-bd948fc6d181",
   "metadata": {},
   "outputs": [],
   "source": [
    "query = \"\"\"\n",
    "SELECT cr.ID, Description AS type, Year, cr.Latitude, cr.Longitude, ST_AsHEXWKB(cr.geometry) AS geometry\n",
    "FROM crimes cr\n",
    "JOIN com_areas ca ON \n",
    "    ST_WITHIN(cr.geometry, ca.geometry)\n",
    "WHERE \"Primary Type\" = 'THEFT' and Description LIKE '%500%' \n",
    "\"\"\"\n",
    "\n",
    "# Fetching the data into a pandas DataFrame\n",
    "df_theft = duckdb.sql(query).df()\n",
    "\n",
    "# Convert pandas DataFrame to GeoDataFrame\n",
    "gdf_theft = gpd.GeoDataFrame(\n",
    "    df_theft, geometry=gpd.GeoSeries.from_wkb(df_theft['geometry']), crs=\"EPSG:4326\"\n",
    ")\n",
    "\n",
    "px.density_heatmap(df_theft, x=\"Longitude\", y=\"Latitude\", facet_row=\"type\", marginal_y=\"histogram\", height=1200)"
   ]
  }
 ],
 "metadata": {
  "kernelspec": {
   "display_name": "Python 3 (ipykernel)",
   "language": "python",
   "name": "python3"
  },
  "language_info": {
   "codemirror_mode": {
    "name": "ipython",
    "version": 3
   },
   "file_extension": ".py",
   "mimetype": "text/x-python",
   "name": "python",
   "nbconvert_exporter": "python",
   "pygments_lexer": "ipython3",
   "version": "3.12.3"
  }
 },
 "nbformat": 4,
 "nbformat_minor": 5
}
